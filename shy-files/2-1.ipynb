{
 "cells": [
  {
   "cell_type": "markdown",
   "metadata": {},
   "source": [
    "美国体操运动的总奖牌 - 年份的图。结果：\n",
    "\n",
    "1. [usa-gym](https://github.com/SunSeaLucky/2025-MCM-ICM/tree/main/shy-files/pictures/usa-gym)"
   ]
  },
  {
   "cell_type": "code",
   "execution_count": 16,
   "metadata": {},
   "outputs": [],
   "source": [
    "from statics.Statics import Statics\n",
    "\n",
    "sport = 'Gymnastics'\n",
    "country = 'USA'\n",
    "\n",
    "s = Statics()\n",
    "df = s.athlete.csv_file\n",
    "df.drop_duplicates(subset=['NOC','Year','Sport','Event', 'Medal'], inplace=True)\n",
    "df = df[ (df['Sport']==sport) & (df['NOC']==country) ].groupby(['Year']).size().reset_index(name='MedalCount')\n",
    "df.to_csv(\"./scratch/usa-gym-medal.csv\", index=False)"
   ]
  }
 ],
 "metadata": {
  "kernelspec": {
   "display_name": "modeling",
   "language": "python",
   "name": "python3"
  },
  "language_info": {
   "codemirror_mode": {
    "name": "ipython",
    "version": 3
   },
   "file_extension": ".py",
   "mimetype": "text/x-python",
   "name": "python",
   "nbconvert_exporter": "python",
   "pygments_lexer": "ipython3",
   "version": "3.12.8"
  }
 },
 "nbformat": 4,
 "nbformat_minor": 2
}
