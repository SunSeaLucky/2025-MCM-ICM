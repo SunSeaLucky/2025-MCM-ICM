{
 "cells": [
  {
   "cell_type": "markdown",
   "metadata": {},
   "source": [
    "男女比例饼图"
   ]
  },
  {
   "cell_type": "code",
   "execution_count": 11,
   "metadata": {},
   "outputs": [],
   "source": [
    "from statics.Statics import Statics\n",
    "import pandas as pd\n",
    "import os\n",
    "\n",
    "self = Statics()\n",
    "\n",
    "def get_ratio(year):\n",
    "    df = self.athlete.csv_file\n",
    "    df = df[ df['Year']==year ]\n",
    "    return df[ df['Sex']=='M' ]['Sex'].shape[0], df[ df['Sex']=='F' ]['Sex'].shape[0]\n",
    "\n",
    "valid_years = self.get_valid_years()\n",
    "\n",
    "arr = []\n",
    "for y in valid_years:\n",
    "    k = []\n",
    "    k.append(y)\n",
    "    m, f = get_ratio(y)\n",
    "    k.append(m)\n",
    "    k.append(f)\n",
    "    arr.append(k)\n",
    "    \n",
    "df = pd.DataFrame(arr, columns=['Year', 'Male', 'Female'])\n",
    "df.to_csv(os.path.join(self.data_path, 'sex_ratio.csv'),  index=False)"
   ]
  }
 ],
 "metadata": {
  "kernelspec": {
   "display_name": "modeling",
   "language": "python",
   "name": "python3"
  },
  "language_info": {
   "codemirror_mode": {
    "name": "ipython",
    "version": 3
   },
   "file_extension": ".py",
   "mimetype": "text/x-python",
   "name": "python",
   "nbconvert_exporter": "python",
   "pygments_lexer": "ipython3",
   "version": "3.12.8"
  }
 },
 "nbformat": 4,
 "nbformat_minor": 2
}
