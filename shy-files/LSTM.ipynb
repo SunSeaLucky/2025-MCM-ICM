{
 "cells": [
  {
   "cell_type": "markdown",
   "metadata": {},
   "source": [
    "# 训练\n",
    "\n",
    "结果：\n",
    "\n",
    "1. [训练 Loss](https://github.com/SunSeaLucky/2025-MCM-ICM/tree/main/shy-files/pictures/loss)"
   ]
  },
  {
   "cell_type": "code",
   "execution_count": 6,
   "metadata": {},
   "outputs": [
    {
     "name": "stderr",
     "output_type": "stream",
     "text": [
      "/root/miniconda3/envs/modeling/lib/python3.12/site-packages/torch/nn/modules/rnn.py:123: UserWarning:\n",
      "\n",
      "dropout option adds dropout after all but last recurrent layer, so non-zero dropout expects num_layers greater than 1, but got dropout=0.2 and num_layers=1\n",
      "\n",
      "/root/autodl-tmp/2025-MCM-ICM/shy-files/dl/lstm.py:186: UserWarning:\n",
      "\n",
      "To copy construct from a tensor, it is recommended to use sourceTensor.clone().detach() or sourceTensor.clone().detach().requires_grad_(True), rather than torch.tensor(sourceTensor).\n",
      "\n",
      "/root/autodl-tmp/2025-MCM-ICM/shy-files/dl/lstm.py:188: UserWarning:\n",
      "\n",
      "To copy construct from a tensor, it is recommended to use sourceTensor.clone().detach() or sourceTensor.clone().detach().requires_grad_(True), rather than torch.tensor(sourceTensor).\n",
      "\n",
      "/root/autodl-tmp/2025-MCM-ICM/shy-files/dl/lstm.py:191: UserWarning:\n",
      "\n",
      "To copy construct from a tensor, it is recommended to use sourceTensor.clone().detach() or sourceTensor.clone().detach().requires_grad_(True), rather than torch.tensor(sourceTensor).\n",
      "\n",
      "/root/autodl-tmp/2025-MCM-ICM/shy-files/dl/lstm.py:193: UserWarning:\n",
      "\n",
      "To copy construct from a tensor, it is recommended to use sourceTensor.clone().detach() or sourceTensor.clone().detach().requires_grad_(True), rather than torch.tensor(sourceTensor).\n",
      "\n"
     ]
    },
    {
     "name": "stdout",
     "output_type": "stream",
     "text": [
      "Epoch  0 MSE:  0.9913712739944458\n",
      "Epoch  1 MSE:  0.9775931239128113\n",
      "Epoch  2 MSE:  0.7888072729110718\n",
      "Epoch  3 MSE:  0.6800779700279236\n",
      "Epoch  4 MSE:  0.6179571747779846\n",
      "Epoch  5 MSE:  0.5696056485176086\n",
      "Epoch  6 MSE:  0.5348270535469055\n",
      "Epoch  7 MSE:  0.4980934262275696\n",
      "Epoch  8 MSE:  0.4612433910369873\n",
      "Epoch  9 MSE:  0.42313942313194275\n",
      "Epoch  10 MSE:  0.38412559032440186\n",
      "Epoch  11 MSE:  0.3473239839076996\n",
      "Epoch  12 MSE:  0.319148451089859\n",
      "Epoch  13 MSE:  0.292633980512619\n",
      "Epoch  14 MSE:  0.2664934992790222\n",
      "Epoch  15 MSE:  0.2419932782649994\n",
      "Epoch  16 MSE:  0.22090110182762146\n",
      "Epoch  17 MSE:  0.2015337496995926\n",
      "Epoch  18 MSE:  0.1865241527557373\n",
      "Epoch  19 MSE:  0.17343102395534515\n",
      "Epoch  20 MSE:  0.16177454590797424\n",
      "Epoch  21 MSE:  0.151680126786232\n",
      "Epoch  22 MSE:  0.14109326899051666\n",
      "Epoch  23 MSE:  0.13317959010601044\n",
      "Epoch  24 MSE:  0.12615391612052917\n",
      "Epoch  25 MSE:  0.11910557001829147\n",
      "Epoch  26 MSE:  0.1127549260854721\n",
      "Epoch  27 MSE:  0.1061151921749115\n",
      "Epoch  28 MSE:  0.10202615708112717\n",
      "Epoch  29 MSE:  0.09842000156641006\n",
      "Epoch  30 MSE:  0.09400511533021927\n",
      "Epoch  31 MSE:  0.08959013223648071\n",
      "Epoch  32 MSE:  0.08591102063655853\n",
      "Epoch  33 MSE:  0.08277884870767593\n",
      "Epoch  34 MSE:  0.07946810871362686\n",
      "Epoch  35 MSE:  0.07648487389087677\n",
      "Epoch  36 MSE:  0.07415935397148132\n",
      "Epoch  37 MSE:  0.07183653116226196\n",
      "Epoch  38 MSE:  0.06867057830095291\n",
      "Epoch  39 MSE:  0.06500057131052017\n",
      "Epoch  40 MSE:  0.06243884190917015\n",
      "Epoch  41 MSE:  0.06103477254509926\n",
      "Epoch  42 MSE:  0.05822732299566269\n",
      "Epoch  43 MSE:  0.05548534542322159\n",
      "Epoch  44 MSE:  0.05390971899032593\n",
      "Epoch  45 MSE:  0.05252579599618912\n",
      "Epoch  46 MSE:  0.05101536959409714\n",
      "Epoch  47 MSE:  0.049373649060726166\n",
      "Epoch  48 MSE:  0.047912612557411194\n",
      "Epoch  49 MSE:  0.04646306112408638\n",
      "Epoch  50 MSE:  0.04614023119211197\n",
      "Epoch  51 MSE:  0.04481511190533638\n",
      "Epoch  52 MSE:  0.044228874146938324\n",
      "Epoch  53 MSE:  0.04341185465455055\n",
      "Epoch  54 MSE:  0.04251562058925629\n",
      "Epoch  55 MSE:  0.041631389409303665\n",
      "Epoch  56 MSE:  0.04070494323968887\n",
      "Epoch  57 MSE:  0.03996749222278595\n",
      "Epoch  58 MSE:  0.03923812881112099\n",
      "Epoch  59 MSE:  0.03876828774809837\n",
      "Epoch  60 MSE:  0.03804149478673935\n",
      "Epoch  61 MSE:  0.037208832800388336\n",
      "Epoch  62 MSE:  0.03646037355065346\n",
      "Epoch  63 MSE:  0.03570355474948883\n",
      "Epoch  64 MSE:  0.035293444991111755\n",
      "Epoch  65 MSE:  0.03457827866077423\n",
      "Epoch  66 MSE:  0.03403203934431076\n",
      "Epoch  67 MSE:  0.033518608659505844\n",
      "Epoch  68 MSE:  0.03315561264753342\n",
      "Epoch  69 MSE:  0.032422881573438644\n",
      "Epoch  70 MSE:  0.0316087007522583\n",
      "Epoch  71 MSE:  0.03144636005163193\n",
      "Epoch  72 MSE:  0.030385060235857964\n",
      "Epoch  73 MSE:  0.030149875208735466\n",
      "Epoch  74 MSE:  0.029395272955298424\n",
      "Epoch  75 MSE:  0.028936702758073807\n",
      "Epoch  76 MSE:  0.028484737500548363\n",
      "Epoch  77 MSE:  0.028003087267279625\n",
      "Epoch  78 MSE:  0.027651499956846237\n",
      "Epoch  79 MSE:  0.027197862043976784\n",
      "Epoch  80 MSE:  0.026805711910128593\n",
      "Epoch  81 MSE:  0.026430215686559677\n",
      "Epoch  82 MSE:  0.026071229949593544\n",
      "Epoch  83 MSE:  0.025614894926548004\n",
      "Epoch  84 MSE:  0.025305289775133133\n",
      "Epoch  85 MSE:  0.024952245876193047\n",
      "Epoch  86 MSE:  0.02454589121043682\n",
      "Epoch  87 MSE:  0.024264942854642868\n",
      "Epoch  88 MSE:  0.02391437627375126\n",
      "Epoch  89 MSE:  0.02350851334631443\n",
      "Epoch  90 MSE:  0.023131201043725014\n",
      "Epoch  91 MSE:  0.022725576534867287\n",
      "Epoch  92 MSE:  0.02227936126291752\n",
      "Epoch  93 MSE:  0.02188129723072052\n",
      "Epoch  94 MSE:  0.021573908627033234\n",
      "Epoch  95 MSE:  0.021286005154252052\n",
      "Epoch  96 MSE:  0.02100333943963051\n",
      "Epoch  97 MSE:  0.0207197368144989\n",
      "Epoch  98 MSE:  0.020417623221874237\n",
      "Epoch  99 MSE:  0.020138602703809738\n",
      "Training time: 0.49463343620300293 seconds\n"
     ]
    },
    {
     "data": {
      "application/vnd.plotly.v1+json": {
       "config": {
        "plotlyServerURL": "https://plot.ly"
       },
       "data": [
        {
         "line": {
          "color": "#2ca02c",
          "width": 3
         },
         "marker": {
          "size": 8,
          "symbol": "triangle-up"
         },
         "mode": "lines+markers",
         "name": "Loss",
         "type": "scatter",
         "x": [
          0,
          1,
          2,
          3,
          4,
          5,
          6,
          7,
          8,
          9,
          10,
          11,
          12,
          13,
          14,
          15,
          16,
          17,
          18,
          19,
          20,
          21,
          22,
          23,
          24,
          25,
          26,
          27,
          28,
          29,
          30,
          31,
          32,
          33,
          34,
          35,
          36,
          37,
          38,
          39,
          40,
          41,
          42,
          43,
          44,
          45,
          46,
          47,
          48,
          49,
          50,
          51,
          52,
          53,
          54,
          55,
          56,
          57,
          58,
          59,
          60,
          61,
          62,
          63,
          64,
          65,
          66,
          67,
          68,
          69,
          70,
          71,
          72,
          73,
          74,
          75,
          76,
          77,
          78,
          79,
          80,
          81,
          82,
          83,
          84,
          85,
          86,
          87,
          88,
          89,
          90,
          91,
          92,
          93,
          94,
          95,
          96,
          97,
          98,
          99
         ],
         "y": [
          0.9913712739944458,
          0.9775931239128113,
          0.7888072729110718,
          0.6800779700279236,
          0.6179571747779846,
          0.5696056485176086,
          0.5348270535469055,
          0.4980934262275696,
          0.4612433910369873,
          0.42313942313194275,
          0.38412559032440186,
          0.3473239839076996,
          0.319148451089859,
          0.292633980512619,
          0.2664934992790222,
          0.2419932782649994,
          0.22090110182762146,
          0.2015337496995926,
          0.1865241527557373,
          0.17343102395534515,
          0.16177454590797424,
          0.151680126786232,
          0.14109326899051666,
          0.13317959010601044,
          0.12615391612052917,
          0.11910557001829147,
          0.1127549260854721,
          0.1061151921749115,
          0.10202615708112717,
          0.09842000156641006,
          0.09400511533021927,
          0.08959013223648071,
          0.08591102063655853,
          0.08277884870767593,
          0.07946810871362686,
          0.07648487389087677,
          0.07415935397148132,
          0.07183653116226196,
          0.06867057830095291,
          0.06500057131052017,
          0.06243884190917015,
          0.06103477254509926,
          0.05822732299566269,
          0.05548534542322159,
          0.05390971899032593,
          0.05252579599618912,
          0.05101536959409714,
          0.049373649060726166,
          0.047912612557411194,
          0.04646306112408638,
          0.04614023119211197,
          0.04481511190533638,
          0.044228874146938324,
          0.04341185465455055,
          0.04251562058925629,
          0.041631389409303665,
          0.04070494323968887,
          0.03996749222278595,
          0.03923812881112099,
          0.03876828774809837,
          0.03804149478673935,
          0.037208832800388336,
          0.03646037355065346,
          0.03570355474948883,
          0.035293444991111755,
          0.03457827866077423,
          0.03403203934431076,
          0.033518608659505844,
          0.03315561264753342,
          0.032422881573438644,
          0.0316087007522583,
          0.03144636005163193,
          0.030385060235857964,
          0.030149875208735466,
          0.029395272955298424,
          0.028936702758073807,
          0.028484737500548363,
          0.028003087267279625,
          0.027651499956846237,
          0.027197862043976784,
          0.026805711910128593,
          0.026430215686559677,
          0.026071229949593544,
          0.025614894926548004,
          0.025305289775133133,
          0.024952245876193047,
          0.02454589121043682,
          0.024264942854642868,
          0.02391437627375126,
          0.02350851334631443,
          0.023131201043725014,
          0.022725576534867287,
          0.02227936126291752,
          0.02188129723072052,
          0.021573908627033234,
          0.021286005154252052,
          0.02100333943963051,
          0.0207197368144989,
          0.020417623221874237,
          0.020138602703809738
         ]
        }
       ],
       "layout": {
        "font": {
         "family": "Times New Roman",
         "size": 14
        },
        "height": 500,
        "legend": {
         "bordercolor": "Black",
         "borderwidth": 1,
         "font": {
          "size": 12
         },
         "title": {
          "text": "Legend"
         },
         "x": 0.02,
         "y": 0.98
        },
        "margin": {
         "b": 50,
         "l": 50,
         "r": 50,
         "t": 50
        },
        "plot_bgcolor": "white",
        "template": {
         "data": {
          "bar": [
           {
            "error_x": {
             "color": "#2a3f5f"
            },
            "error_y": {
             "color": "#2a3f5f"
            },
            "marker": {
             "line": {
              "color": "#E5ECF6",
              "width": 0.5
             },
             "pattern": {
              "fillmode": "overlay",
              "size": 10,
              "solidity": 0.2
             }
            },
            "type": "bar"
           }
          ],
          "barpolar": [
           {
            "marker": {
             "line": {
              "color": "#E5ECF6",
              "width": 0.5
             },
             "pattern": {
              "fillmode": "overlay",
              "size": 10,
              "solidity": 0.2
             }
            },
            "type": "barpolar"
           }
          ],
          "carpet": [
           {
            "aaxis": {
             "endlinecolor": "#2a3f5f",
             "gridcolor": "white",
             "linecolor": "white",
             "minorgridcolor": "white",
             "startlinecolor": "#2a3f5f"
            },
            "baxis": {
             "endlinecolor": "#2a3f5f",
             "gridcolor": "white",
             "linecolor": "white",
             "minorgridcolor": "white",
             "startlinecolor": "#2a3f5f"
            },
            "type": "carpet"
           }
          ],
          "choropleth": [
           {
            "colorbar": {
             "outlinewidth": 0,
             "ticks": ""
            },
            "type": "choropleth"
           }
          ],
          "contour": [
           {
            "colorbar": {
             "outlinewidth": 0,
             "ticks": ""
            },
            "colorscale": [
             [
              0,
              "#0d0887"
             ],
             [
              0.1111111111111111,
              "#46039f"
             ],
             [
              0.2222222222222222,
              "#7201a8"
             ],
             [
              0.3333333333333333,
              "#9c179e"
             ],
             [
              0.4444444444444444,
              "#bd3786"
             ],
             [
              0.5555555555555556,
              "#d8576b"
             ],
             [
              0.6666666666666666,
              "#ed7953"
             ],
             [
              0.7777777777777778,
              "#fb9f3a"
             ],
             [
              0.8888888888888888,
              "#fdca26"
             ],
             [
              1,
              "#f0f921"
             ]
            ],
            "type": "contour"
           }
          ],
          "contourcarpet": [
           {
            "colorbar": {
             "outlinewidth": 0,
             "ticks": ""
            },
            "type": "contourcarpet"
           }
          ],
          "heatmap": [
           {
            "colorbar": {
             "outlinewidth": 0,
             "ticks": ""
            },
            "colorscale": [
             [
              0,
              "#0d0887"
             ],
             [
              0.1111111111111111,
              "#46039f"
             ],
             [
              0.2222222222222222,
              "#7201a8"
             ],
             [
              0.3333333333333333,
              "#9c179e"
             ],
             [
              0.4444444444444444,
              "#bd3786"
             ],
             [
              0.5555555555555556,
              "#d8576b"
             ],
             [
              0.6666666666666666,
              "#ed7953"
             ],
             [
              0.7777777777777778,
              "#fb9f3a"
             ],
             [
              0.8888888888888888,
              "#fdca26"
             ],
             [
              1,
              "#f0f921"
             ]
            ],
            "type": "heatmap"
           }
          ],
          "heatmapgl": [
           {
            "colorbar": {
             "outlinewidth": 0,
             "ticks": ""
            },
            "colorscale": [
             [
              0,
              "#0d0887"
             ],
             [
              0.1111111111111111,
              "#46039f"
             ],
             [
              0.2222222222222222,
              "#7201a8"
             ],
             [
              0.3333333333333333,
              "#9c179e"
             ],
             [
              0.4444444444444444,
              "#bd3786"
             ],
             [
              0.5555555555555556,
              "#d8576b"
             ],
             [
              0.6666666666666666,
              "#ed7953"
             ],
             [
              0.7777777777777778,
              "#fb9f3a"
             ],
             [
              0.8888888888888888,
              "#fdca26"
             ],
             [
              1,
              "#f0f921"
             ]
            ],
            "type": "heatmapgl"
           }
          ],
          "histogram": [
           {
            "marker": {
             "pattern": {
              "fillmode": "overlay",
              "size": 10,
              "solidity": 0.2
             }
            },
            "type": "histogram"
           }
          ],
          "histogram2d": [
           {
            "colorbar": {
             "outlinewidth": 0,
             "ticks": ""
            },
            "colorscale": [
             [
              0,
              "#0d0887"
             ],
             [
              0.1111111111111111,
              "#46039f"
             ],
             [
              0.2222222222222222,
              "#7201a8"
             ],
             [
              0.3333333333333333,
              "#9c179e"
             ],
             [
              0.4444444444444444,
              "#bd3786"
             ],
             [
              0.5555555555555556,
              "#d8576b"
             ],
             [
              0.6666666666666666,
              "#ed7953"
             ],
             [
              0.7777777777777778,
              "#fb9f3a"
             ],
             [
              0.8888888888888888,
              "#fdca26"
             ],
             [
              1,
              "#f0f921"
             ]
            ],
            "type": "histogram2d"
           }
          ],
          "histogram2dcontour": [
           {
            "colorbar": {
             "outlinewidth": 0,
             "ticks": ""
            },
            "colorscale": [
             [
              0,
              "#0d0887"
             ],
             [
              0.1111111111111111,
              "#46039f"
             ],
             [
              0.2222222222222222,
              "#7201a8"
             ],
             [
              0.3333333333333333,
              "#9c179e"
             ],
             [
              0.4444444444444444,
              "#bd3786"
             ],
             [
              0.5555555555555556,
              "#d8576b"
             ],
             [
              0.6666666666666666,
              "#ed7953"
             ],
             [
              0.7777777777777778,
              "#fb9f3a"
             ],
             [
              0.8888888888888888,
              "#fdca26"
             ],
             [
              1,
              "#f0f921"
             ]
            ],
            "type": "histogram2dcontour"
           }
          ],
          "mesh3d": [
           {
            "colorbar": {
             "outlinewidth": 0,
             "ticks": ""
            },
            "type": "mesh3d"
           }
          ],
          "parcoords": [
           {
            "line": {
             "colorbar": {
              "outlinewidth": 0,
              "ticks": ""
             }
            },
            "type": "parcoords"
           }
          ],
          "pie": [
           {
            "automargin": true,
            "type": "pie"
           }
          ],
          "scatter": [
           {
            "fillpattern": {
             "fillmode": "overlay",
             "size": 10,
             "solidity": 0.2
            },
            "type": "scatter"
           }
          ],
          "scatter3d": [
           {
            "line": {
             "colorbar": {
              "outlinewidth": 0,
              "ticks": ""
             }
            },
            "marker": {
             "colorbar": {
              "outlinewidth": 0,
              "ticks": ""
             }
            },
            "type": "scatter3d"
           }
          ],
          "scattercarpet": [
           {
            "marker": {
             "colorbar": {
              "outlinewidth": 0,
              "ticks": ""
             }
            },
            "type": "scattercarpet"
           }
          ],
          "scattergeo": [
           {
            "marker": {
             "colorbar": {
              "outlinewidth": 0,
              "ticks": ""
             }
            },
            "type": "scattergeo"
           }
          ],
          "scattergl": [
           {
            "marker": {
             "colorbar": {
              "outlinewidth": 0,
              "ticks": ""
             }
            },
            "type": "scattergl"
           }
          ],
          "scattermapbox": [
           {
            "marker": {
             "colorbar": {
              "outlinewidth": 0,
              "ticks": ""
             }
            },
            "type": "scattermapbox"
           }
          ],
          "scatterpolar": [
           {
            "marker": {
             "colorbar": {
              "outlinewidth": 0,
              "ticks": ""
             }
            },
            "type": "scatterpolar"
           }
          ],
          "scatterpolargl": [
           {
            "marker": {
             "colorbar": {
              "outlinewidth": 0,
              "ticks": ""
             }
            },
            "type": "scatterpolargl"
           }
          ],
          "scatterternary": [
           {
            "marker": {
             "colorbar": {
              "outlinewidth": 0,
              "ticks": ""
             }
            },
            "type": "scatterternary"
           }
          ],
          "surface": [
           {
            "colorbar": {
             "outlinewidth": 0,
             "ticks": ""
            },
            "colorscale": [
             [
              0,
              "#0d0887"
             ],
             [
              0.1111111111111111,
              "#46039f"
             ],
             [
              0.2222222222222222,
              "#7201a8"
             ],
             [
              0.3333333333333333,
              "#9c179e"
             ],
             [
              0.4444444444444444,
              "#bd3786"
             ],
             [
              0.5555555555555556,
              "#d8576b"
             ],
             [
              0.6666666666666666,
              "#ed7953"
             ],
             [
              0.7777777777777778,
              "#fb9f3a"
             ],
             [
              0.8888888888888888,
              "#fdca26"
             ],
             [
              1,
              "#f0f921"
             ]
            ],
            "type": "surface"
           }
          ],
          "table": [
           {
            "cells": {
             "fill": {
              "color": "#EBF0F8"
             },
             "line": {
              "color": "white"
             }
            },
            "header": {
             "fill": {
              "color": "#C8D4E3"
             },
             "line": {
              "color": "white"
             }
            },
            "type": "table"
           }
          ]
         },
         "layout": {
          "annotationdefaults": {
           "arrowcolor": "#2a3f5f",
           "arrowhead": 0,
           "arrowwidth": 1
          },
          "autotypenumbers": "strict",
          "coloraxis": {
           "colorbar": {
            "outlinewidth": 0,
            "ticks": ""
           }
          },
          "colorscale": {
           "diverging": [
            [
             0,
             "#8e0152"
            ],
            [
             0.1,
             "#c51b7d"
            ],
            [
             0.2,
             "#de77ae"
            ],
            [
             0.3,
             "#f1b6da"
            ],
            [
             0.4,
             "#fde0ef"
            ],
            [
             0.5,
             "#f7f7f7"
            ],
            [
             0.6,
             "#e6f5d0"
            ],
            [
             0.7,
             "#b8e186"
            ],
            [
             0.8,
             "#7fbc41"
            ],
            [
             0.9,
             "#4d9221"
            ],
            [
             1,
             "#276419"
            ]
           ],
           "sequential": [
            [
             0,
             "#0d0887"
            ],
            [
             0.1111111111111111,
             "#46039f"
            ],
            [
             0.2222222222222222,
             "#7201a8"
            ],
            [
             0.3333333333333333,
             "#9c179e"
            ],
            [
             0.4444444444444444,
             "#bd3786"
            ],
            [
             0.5555555555555556,
             "#d8576b"
            ],
            [
             0.6666666666666666,
             "#ed7953"
            ],
            [
             0.7777777777777778,
             "#fb9f3a"
            ],
            [
             0.8888888888888888,
             "#fdca26"
            ],
            [
             1,
             "#f0f921"
            ]
           ],
           "sequentialminus": [
            [
             0,
             "#0d0887"
            ],
            [
             0.1111111111111111,
             "#46039f"
            ],
            [
             0.2222222222222222,
             "#7201a8"
            ],
            [
             0.3333333333333333,
             "#9c179e"
            ],
            [
             0.4444444444444444,
             "#bd3786"
            ],
            [
             0.5555555555555556,
             "#d8576b"
            ],
            [
             0.6666666666666666,
             "#ed7953"
            ],
            [
             0.7777777777777778,
             "#fb9f3a"
            ],
            [
             0.8888888888888888,
             "#fdca26"
            ],
            [
             1,
             "#f0f921"
            ]
           ]
          },
          "colorway": [
           "#636efa",
           "#EF553B",
           "#00cc96",
           "#ab63fa",
           "#FFA15A",
           "#19d3f3",
           "#FF6692",
           "#B6E880",
           "#FF97FF",
           "#FECB52"
          ],
          "font": {
           "color": "#2a3f5f"
          },
          "geo": {
           "bgcolor": "white",
           "lakecolor": "white",
           "landcolor": "#E5ECF6",
           "showlakes": true,
           "showland": true,
           "subunitcolor": "white"
          },
          "hoverlabel": {
           "align": "left"
          },
          "hovermode": "closest",
          "mapbox": {
           "style": "light"
          },
          "paper_bgcolor": "white",
          "plot_bgcolor": "#E5ECF6",
          "polar": {
           "angularaxis": {
            "gridcolor": "white",
            "linecolor": "white",
            "ticks": ""
           },
           "bgcolor": "#E5ECF6",
           "radialaxis": {
            "gridcolor": "white",
            "linecolor": "white",
            "ticks": ""
           }
          },
          "scene": {
           "xaxis": {
            "backgroundcolor": "#E5ECF6",
            "gridcolor": "white",
            "gridwidth": 2,
            "linecolor": "white",
            "showbackground": true,
            "ticks": "",
            "zerolinecolor": "white"
           },
           "yaxis": {
            "backgroundcolor": "#E5ECF6",
            "gridcolor": "white",
            "gridwidth": 2,
            "linecolor": "white",
            "showbackground": true,
            "ticks": "",
            "zerolinecolor": "white"
           },
           "zaxis": {
            "backgroundcolor": "#E5ECF6",
            "gridcolor": "white",
            "gridwidth": 2,
            "linecolor": "white",
            "showbackground": true,
            "ticks": "",
            "zerolinecolor": "white"
           }
          },
          "shapedefaults": {
           "line": {
            "color": "#2a3f5f"
           }
          },
          "ternary": {
           "aaxis": {
            "gridcolor": "white",
            "linecolor": "white",
            "ticks": ""
           },
           "baxis": {
            "gridcolor": "white",
            "linecolor": "white",
            "ticks": ""
           },
           "bgcolor": "#E5ECF6",
           "caxis": {
            "gridcolor": "white",
            "linecolor": "white",
            "ticks": ""
           }
          },
          "title": {
           "x": 0.05
          },
          "xaxis": {
           "automargin": true,
           "gridcolor": "white",
           "linecolor": "white",
           "ticks": "",
           "title": {
            "standoff": 15
           },
           "zerolinecolor": "white",
           "zerolinewidth": 2
          },
          "yaxis": {
           "automargin": true,
           "gridcolor": "white",
           "linecolor": "white",
           "ticks": "",
           "title": {
            "standoff": 15
           },
           "zerolinecolor": "white",
           "zerolinewidth": 2
          }
         }
        },
        "title": {
         "font": {
          "family": "Times New Roman",
          "size": 20
         },
         "text": "Training Loss",
         "x": 0.5
        },
        "width": 800,
        "xaxis": {
         "gridcolor": "lightgrey",
         "showgrid": true,
         "title": {
          "text": "Epoch"
         }
        },
        "yaxis": {
         "gridcolor": "lightgrey",
         "showgrid": true,
         "title": {
          "text": "Loss"
         }
        }
       }
      },
      "text/html": [
       "<div>                            <div id=\"42fb7dd0-6a4d-444b-8d16-fd421f982235\" class=\"plotly-graph-div\" style=\"height:500px; width:800px;\"></div>            <script type=\"text/javascript\">                require([\"plotly\"], function(Plotly) {                    window.PLOTLYENV=window.PLOTLYENV || {};                                    if (document.getElementById(\"42fb7dd0-6a4d-444b-8d16-fd421f982235\")) {                    Plotly.newPlot(                        \"42fb7dd0-6a4d-444b-8d16-fd421f982235\",                        [{\"line\":{\"color\":\"#2ca02c\",\"width\":3},\"marker\":{\"size\":8,\"symbol\":\"triangle-up\"},\"mode\":\"lines+markers\",\"name\":\"Loss\",\"x\":[0,1,2,3,4,5,6,7,8,9,10,11,12,13,14,15,16,17,18,19,20,21,22,23,24,25,26,27,28,29,30,31,32,33,34,35,36,37,38,39,40,41,42,43,44,45,46,47,48,49,50,51,52,53,54,55,56,57,58,59,60,61,62,63,64,65,66,67,68,69,70,71,72,73,74,75,76,77,78,79,80,81,82,83,84,85,86,87,88,89,90,91,92,93,94,95,96,97,98,99],\"y\":[0.9913712739944458,0.9775931239128113,0.7888072729110718,0.6800779700279236,0.6179571747779846,0.5696056485176086,0.5348270535469055,0.4980934262275696,0.4612433910369873,0.42313942313194275,0.38412559032440186,0.3473239839076996,0.319148451089859,0.292633980512619,0.2664934992790222,0.2419932782649994,0.22090110182762146,0.2015337496995926,0.1865241527557373,0.17343102395534515,0.16177454590797424,0.151680126786232,0.14109326899051666,0.13317959010601044,0.12615391612052917,0.11910557001829147,0.1127549260854721,0.1061151921749115,0.10202615708112717,0.09842000156641006,0.09400511533021927,0.08959013223648071,0.08591102063655853,0.08277884870767593,0.07946810871362686,0.07648487389087677,0.07415935397148132,0.07183653116226196,0.06867057830095291,0.06500057131052017,0.06243884190917015,0.06103477254509926,0.05822732299566269,0.05548534542322159,0.05390971899032593,0.05252579599618912,0.05101536959409714,0.049373649060726166,0.047912612557411194,0.04646306112408638,0.04614023119211197,0.04481511190533638,0.044228874146938324,0.04341185465455055,0.04251562058925629,0.041631389409303665,0.04070494323968887,0.03996749222278595,0.03923812881112099,0.03876828774809837,0.03804149478673935,0.037208832800388336,0.03646037355065346,0.03570355474948883,0.035293444991111755,0.03457827866077423,0.03403203934431076,0.033518608659505844,0.03315561264753342,0.032422881573438644,0.0316087007522583,0.03144636005163193,0.030385060235857964,0.030149875208735466,0.029395272955298424,0.028936702758073807,0.028484737500548363,0.028003087267279625,0.027651499956846237,0.027197862043976784,0.026805711910128593,0.026430215686559677,0.026071229949593544,0.025614894926548004,0.025305289775133133,0.024952245876193047,0.02454589121043682,0.024264942854642868,0.02391437627375126,0.02350851334631443,0.023131201043725014,0.022725576534867287,0.02227936126291752,0.02188129723072052,0.021573908627033234,0.021286005154252052,0.02100333943963051,0.0207197368144989,0.020417623221874237,0.020138602703809738],\"type\":\"scatter\"}],                        {\"template\":{\"data\":{\"histogram2dcontour\":[{\"type\":\"histogram2dcontour\",\"colorbar\":{\"outlinewidth\":0,\"ticks\":\"\"},\"colorscale\":[[0.0,\"#0d0887\"],[0.1111111111111111,\"#46039f\"],[0.2222222222222222,\"#7201a8\"],[0.3333333333333333,\"#9c179e\"],[0.4444444444444444,\"#bd3786\"],[0.5555555555555556,\"#d8576b\"],[0.6666666666666666,\"#ed7953\"],[0.7777777777777778,\"#fb9f3a\"],[0.8888888888888888,\"#fdca26\"],[1.0,\"#f0f921\"]]}],\"choropleth\":[{\"type\":\"choropleth\",\"colorbar\":{\"outlinewidth\":0,\"ticks\":\"\"}}],\"histogram2d\":[{\"type\":\"histogram2d\",\"colorbar\":{\"outlinewidth\":0,\"ticks\":\"\"},\"colorscale\":[[0.0,\"#0d0887\"],[0.1111111111111111,\"#46039f\"],[0.2222222222222222,\"#7201a8\"],[0.3333333333333333,\"#9c179e\"],[0.4444444444444444,\"#bd3786\"],[0.5555555555555556,\"#d8576b\"],[0.6666666666666666,\"#ed7953\"],[0.7777777777777778,\"#fb9f3a\"],[0.8888888888888888,\"#fdca26\"],[1.0,\"#f0f921\"]]}],\"heatmap\":[{\"type\":\"heatmap\",\"colorbar\":{\"outlinewidth\":0,\"ticks\":\"\"},\"colorscale\":[[0.0,\"#0d0887\"],[0.1111111111111111,\"#46039f\"],[0.2222222222222222,\"#7201a8\"],[0.3333333333333333,\"#9c179e\"],[0.4444444444444444,\"#bd3786\"],[0.5555555555555556,\"#d8576b\"],[0.6666666666666666,\"#ed7953\"],[0.7777777777777778,\"#fb9f3a\"],[0.8888888888888888,\"#fdca26\"],[1.0,\"#f0f921\"]]}],\"heatmapgl\":[{\"type\":\"heatmapgl\",\"colorbar\":{\"outlinewidth\":0,\"ticks\":\"\"},\"colorscale\":[[0.0,\"#0d0887\"],[0.1111111111111111,\"#46039f\"],[0.2222222222222222,\"#7201a8\"],[0.3333333333333333,\"#9c179e\"],[0.4444444444444444,\"#bd3786\"],[0.5555555555555556,\"#d8576b\"],[0.6666666666666666,\"#ed7953\"],[0.7777777777777778,\"#fb9f3a\"],[0.8888888888888888,\"#fdca26\"],[1.0,\"#f0f921\"]]}],\"contourcarpet\":[{\"type\":\"contourcarpet\",\"colorbar\":{\"outlinewidth\":0,\"ticks\":\"\"}}],\"contour\":[{\"type\":\"contour\",\"colorbar\":{\"outlinewidth\":0,\"ticks\":\"\"},\"colorscale\":[[0.0,\"#0d0887\"],[0.1111111111111111,\"#46039f\"],[0.2222222222222222,\"#7201a8\"],[0.3333333333333333,\"#9c179e\"],[0.4444444444444444,\"#bd3786\"],[0.5555555555555556,\"#d8576b\"],[0.6666666666666666,\"#ed7953\"],[0.7777777777777778,\"#fb9f3a\"],[0.8888888888888888,\"#fdca26\"],[1.0,\"#f0f921\"]]}],\"surface\":[{\"type\":\"surface\",\"colorbar\":{\"outlinewidth\":0,\"ticks\":\"\"},\"colorscale\":[[0.0,\"#0d0887\"],[0.1111111111111111,\"#46039f\"],[0.2222222222222222,\"#7201a8\"],[0.3333333333333333,\"#9c179e\"],[0.4444444444444444,\"#bd3786\"],[0.5555555555555556,\"#d8576b\"],[0.6666666666666666,\"#ed7953\"],[0.7777777777777778,\"#fb9f3a\"],[0.8888888888888888,\"#fdca26\"],[1.0,\"#f0f921\"]]}],\"mesh3d\":[{\"type\":\"mesh3d\",\"colorbar\":{\"outlinewidth\":0,\"ticks\":\"\"}}],\"scatter\":[{\"fillpattern\":{\"fillmode\":\"overlay\",\"size\":10,\"solidity\":0.2},\"type\":\"scatter\"}],\"parcoords\":[{\"type\":\"parcoords\",\"line\":{\"colorbar\":{\"outlinewidth\":0,\"ticks\":\"\"}}}],\"scatterpolargl\":[{\"type\":\"scatterpolargl\",\"marker\":{\"colorbar\":{\"outlinewidth\":0,\"ticks\":\"\"}}}],\"bar\":[{\"error_x\":{\"color\":\"#2a3f5f\"},\"error_y\":{\"color\":\"#2a3f5f\"},\"marker\":{\"line\":{\"color\":\"#E5ECF6\",\"width\":0.5},\"pattern\":{\"fillmode\":\"overlay\",\"size\":10,\"solidity\":0.2}},\"type\":\"bar\"}],\"scattergeo\":[{\"type\":\"scattergeo\",\"marker\":{\"colorbar\":{\"outlinewidth\":0,\"ticks\":\"\"}}}],\"scatterpolar\":[{\"type\":\"scatterpolar\",\"marker\":{\"colorbar\":{\"outlinewidth\":0,\"ticks\":\"\"}}}],\"histogram\":[{\"marker\":{\"pattern\":{\"fillmode\":\"overlay\",\"size\":10,\"solidity\":0.2}},\"type\":\"histogram\"}],\"scattergl\":[{\"type\":\"scattergl\",\"marker\":{\"colorbar\":{\"outlinewidth\":0,\"ticks\":\"\"}}}],\"scatter3d\":[{\"type\":\"scatter3d\",\"line\":{\"colorbar\":{\"outlinewidth\":0,\"ticks\":\"\"}},\"marker\":{\"colorbar\":{\"outlinewidth\":0,\"ticks\":\"\"}}}],\"scattermapbox\":[{\"type\":\"scattermapbox\",\"marker\":{\"colorbar\":{\"outlinewidth\":0,\"ticks\":\"\"}}}],\"scatterternary\":[{\"type\":\"scatterternary\",\"marker\":{\"colorbar\":{\"outlinewidth\":0,\"ticks\":\"\"}}}],\"scattercarpet\":[{\"type\":\"scattercarpet\",\"marker\":{\"colorbar\":{\"outlinewidth\":0,\"ticks\":\"\"}}}],\"carpet\":[{\"aaxis\":{\"endlinecolor\":\"#2a3f5f\",\"gridcolor\":\"white\",\"linecolor\":\"white\",\"minorgridcolor\":\"white\",\"startlinecolor\":\"#2a3f5f\"},\"baxis\":{\"endlinecolor\":\"#2a3f5f\",\"gridcolor\":\"white\",\"linecolor\":\"white\",\"minorgridcolor\":\"white\",\"startlinecolor\":\"#2a3f5f\"},\"type\":\"carpet\"}],\"table\":[{\"cells\":{\"fill\":{\"color\":\"#EBF0F8\"},\"line\":{\"color\":\"white\"}},\"header\":{\"fill\":{\"color\":\"#C8D4E3\"},\"line\":{\"color\":\"white\"}},\"type\":\"table\"}],\"barpolar\":[{\"marker\":{\"line\":{\"color\":\"#E5ECF6\",\"width\":0.5},\"pattern\":{\"fillmode\":\"overlay\",\"size\":10,\"solidity\":0.2}},\"type\":\"barpolar\"}],\"pie\":[{\"automargin\":true,\"type\":\"pie\"}]},\"layout\":{\"autotypenumbers\":\"strict\",\"colorway\":[\"#636efa\",\"#EF553B\",\"#00cc96\",\"#ab63fa\",\"#FFA15A\",\"#19d3f3\",\"#FF6692\",\"#B6E880\",\"#FF97FF\",\"#FECB52\"],\"font\":{\"color\":\"#2a3f5f\"},\"hovermode\":\"closest\",\"hoverlabel\":{\"align\":\"left\"},\"paper_bgcolor\":\"white\",\"plot_bgcolor\":\"#E5ECF6\",\"polar\":{\"bgcolor\":\"#E5ECF6\",\"angularaxis\":{\"gridcolor\":\"white\",\"linecolor\":\"white\",\"ticks\":\"\"},\"radialaxis\":{\"gridcolor\":\"white\",\"linecolor\":\"white\",\"ticks\":\"\"}},\"ternary\":{\"bgcolor\":\"#E5ECF6\",\"aaxis\":{\"gridcolor\":\"white\",\"linecolor\":\"white\",\"ticks\":\"\"},\"baxis\":{\"gridcolor\":\"white\",\"linecolor\":\"white\",\"ticks\":\"\"},\"caxis\":{\"gridcolor\":\"white\",\"linecolor\":\"white\",\"ticks\":\"\"}},\"coloraxis\":{\"colorbar\":{\"outlinewidth\":0,\"ticks\":\"\"}},\"colorscale\":{\"sequential\":[[0.0,\"#0d0887\"],[0.1111111111111111,\"#46039f\"],[0.2222222222222222,\"#7201a8\"],[0.3333333333333333,\"#9c179e\"],[0.4444444444444444,\"#bd3786\"],[0.5555555555555556,\"#d8576b\"],[0.6666666666666666,\"#ed7953\"],[0.7777777777777778,\"#fb9f3a\"],[0.8888888888888888,\"#fdca26\"],[1.0,\"#f0f921\"]],\"sequentialminus\":[[0.0,\"#0d0887\"],[0.1111111111111111,\"#46039f\"],[0.2222222222222222,\"#7201a8\"],[0.3333333333333333,\"#9c179e\"],[0.4444444444444444,\"#bd3786\"],[0.5555555555555556,\"#d8576b\"],[0.6666666666666666,\"#ed7953\"],[0.7777777777777778,\"#fb9f3a\"],[0.8888888888888888,\"#fdca26\"],[1.0,\"#f0f921\"]],\"diverging\":[[0,\"#8e0152\"],[0.1,\"#c51b7d\"],[0.2,\"#de77ae\"],[0.3,\"#f1b6da\"],[0.4,\"#fde0ef\"],[0.5,\"#f7f7f7\"],[0.6,\"#e6f5d0\"],[0.7,\"#b8e186\"],[0.8,\"#7fbc41\"],[0.9,\"#4d9221\"],[1,\"#276419\"]]},\"xaxis\":{\"gridcolor\":\"white\",\"linecolor\":\"white\",\"ticks\":\"\",\"title\":{\"standoff\":15},\"zerolinecolor\":\"white\",\"automargin\":true,\"zerolinewidth\":2},\"yaxis\":{\"gridcolor\":\"white\",\"linecolor\":\"white\",\"ticks\":\"\",\"title\":{\"standoff\":15},\"zerolinecolor\":\"white\",\"automargin\":true,\"zerolinewidth\":2},\"scene\":{\"xaxis\":{\"backgroundcolor\":\"#E5ECF6\",\"gridcolor\":\"white\",\"linecolor\":\"white\",\"showbackground\":true,\"ticks\":\"\",\"zerolinecolor\":\"white\",\"gridwidth\":2},\"yaxis\":{\"backgroundcolor\":\"#E5ECF6\",\"gridcolor\":\"white\",\"linecolor\":\"white\",\"showbackground\":true,\"ticks\":\"\",\"zerolinecolor\":\"white\",\"gridwidth\":2},\"zaxis\":{\"backgroundcolor\":\"#E5ECF6\",\"gridcolor\":\"white\",\"linecolor\":\"white\",\"showbackground\":true,\"ticks\":\"\",\"zerolinecolor\":\"white\",\"gridwidth\":2}},\"shapedefaults\":{\"line\":{\"color\":\"#2a3f5f\"}},\"annotationdefaults\":{\"arrowcolor\":\"#2a3f5f\",\"arrowhead\":0,\"arrowwidth\":1},\"geo\":{\"bgcolor\":\"white\",\"landcolor\":\"#E5ECF6\",\"subunitcolor\":\"white\",\"showland\":true,\"showlakes\":true,\"lakecolor\":\"white\"},\"title\":{\"x\":0.05},\"mapbox\":{\"style\":\"light\"}}},\"title\":{\"font\":{\"size\":20,\"family\":\"Times New Roman\"},\"text\":\"Training Loss\",\"x\":0.5},\"font\":{\"family\":\"Times New Roman\",\"size\":14},\"legend\":{\"font\":{\"size\":12},\"title\":{\"text\":\"Legend\"},\"bordercolor\":\"Black\",\"borderwidth\":1,\"x\":0.02,\"y\":0.98},\"margin\":{\"l\":50,\"r\":50,\"t\":50,\"b\":50},\"xaxis\":{\"title\":{\"text\":\"Epoch\"},\"showgrid\":true,\"gridcolor\":\"lightgrey\"},\"yaxis\":{\"title\":{\"text\":\"Loss\"},\"showgrid\":true,\"gridcolor\":\"lightgrey\"},\"width\":800,\"height\":500,\"plot_bgcolor\":\"white\"},                        {\"responsive\": true}                    ).then(function(){\n",
       "                            \n",
       "var gd = document.getElementById('42fb7dd0-6a4d-444b-8d16-fd421f982235');\n",
       "var x = new MutationObserver(function (mutations, observer) {{\n",
       "        var display = window.getComputedStyle(gd).display;\n",
       "        if (!display || display === 'none') {{\n",
       "            console.log([gd, 'removed!']);\n",
       "            Plotly.purge(gd);\n",
       "            observer.disconnect();\n",
       "        }}\n",
       "}});\n",
       "\n",
       "// Listen for the removal of the full notebook cells\n",
       "var notebookContainer = gd.closest('#notebook-container');\n",
       "if (notebookContainer) {{\n",
       "    x.observe(notebookContainer, {childList: true});\n",
       "}}\n",
       "\n",
       "// Listen for the clearing of the current output cell\n",
       "var outputEl = gd.closest('.output');\n",
       "if (outputEl) {{\n",
       "    x.observe(outputEl, {childList: true});\n",
       "}}\n",
       "\n",
       "                        })                };                });            </script>        </div>"
      ]
     },
     "metadata": {},
     "output_type": "display_data"
    }
   ],
   "source": [
    "from dl.lstm import LSTMAdvanced\n",
    "from statics.Statics import Statics\n",
    "import numpy as np\n",
    "import pandas as pd\n",
    "\n",
    "lstm = LSTMAdvanced(feature_type=1)\n",
    "\n",
    "lstm.dataset_construct()\n",
    "lstm.train()\n",
    "lstm.draw_loss()"
   ]
  },
  {
   "cell_type": "markdown",
   "metadata": {},
   "source": [
    "# 性能\n",
    "\n",
    "原文：包括对模型预测的不确定性 $^a$ /精确度 $^b$ 的估计，以及对模型性能的衡量 $^c$\n",
    "\n",
    "#### a: 不确定性\n",
    "\n",
    "蒙特卡洛 Dropout（MC Dropout）"
   ]
  },
  {
   "cell_type": "code",
   "execution_count": 7,
   "metadata": {},
   "outputs": [
    {
     "name": "stdout",
     "output_type": "stream",
     "text": [
      "Mean prediction: 10.778023\n",
      "Uncertainty (std): 2.1168132\n",
      "95% confidence interval: 6.629068927764893 14.92697660446167\n"
     ]
    }
   ],
   "source": [
    "# MC 采样  \n",
    "mean, std = lstm.monte_carlo_sampling(lstm.model, lstm.x_test)  \n",
    "\n",
    "# 计算预测区间  \n",
    "lower_bound = mean - 1.96 * std  # 95% 置信区间下界  \n",
    "upper_bound = mean + 1.96 * std  # 95% 置信区间上界  \n",
    "\n",
    "# 打印结果  \n",
    "print(\"Mean prediction:\", mean)  \n",
    "print(\"Uncertainty (std):\", std)  \n",
    "print(\"95% confidence interval:\", lower_bound, upper_bound) "
   ]
  },
  {
   "cell_type": "markdown",
   "metadata": {},
   "source": [
    "#### b: 精确度"
   ]
  },
  {
   "cell_type": "markdown",
   "metadata": {},
   "source": [
    "这个我搜了下，好像主要还是指下面那几个误差"
   ]
  },
  {
   "cell_type": "markdown",
   "metadata": {},
   "source": [
    "#### c: 模型性能\n",
    "\n",
    "结果：\n",
    "\n",
    "1. [预测结果对比图](https://github.com/SunSeaLucky/2025-MCM-ICM/tree/main/shy-files/pictures/true_pred_compare)\n",
    "1. 误差见下方代码输出\n",
    "\n",
    "测试集上计算 MSE、RMSE、MAE 和 R² Score"
   ]
  },
  {
   "cell_type": "code",
   "execution_count": 15,
   "metadata": {},
   "outputs": [
    {
     "name": "stdout",
     "output_type": "stream",
     "text": [
      "---------- Train Set Evaluation ----------\n",
      "Mean Squared Error (MSE): 0.9837\n",
      "Root Mean Squared Error (RMSE): 0.9918\n",
      "Mean Absolute Error (MAE): 0.6728\n",
      "R² Score: 0.8968\n",
      "---------- Test Set Evaluation ----------\n",
      "Mean Squared Error (MSE): 2.8519\n",
      "Root Mean Squared Error (RMSE): 1.6888\n",
      "Mean Absolute Error (MAE): 1.2195\n",
      "R² Score: 0.0000\n",
      "Image saved to ./scratch/GRE Gold Metal Prediction vs. True Values (Bar).png\n"
     ]
    },
    {
     "data": {
      "application/vnd.plotly.v1+json": {
       "config": {
        "plotlyServerURL": "https://plot.ly"
       },
       "data": [
        {
         "line": {
          "color": "#1f77b4",
          "width": 3
         },
         "marker": {
          "size": 8,
          "symbol": "circle"
         },
         "mode": "lines+markers",
         "name": "True Values",
         "type": "scatter",
         "x": [
          1896,
          1900,
          1904,
          1908,
          1912,
          1920,
          1924,
          1928,
          1932,
          1936,
          1948,
          1952,
          1956,
          1960,
          1964,
          1968,
          1972,
          1976,
          1980,
          1984,
          1988,
          1992,
          1996,
          2000,
          2004,
          2008,
          2012,
          2016,
          2020,
          2024
         ],
         "y": [
          9.999999046325684,
          2.247751673678522e-8,
          1,
          2.247751673678522e-8,
          1,
          2.247751673678522e-8,
          1,
          2.247751673678522e-8,
          2.247751673678522e-8,
          2.247751673678522e-8,
          2.247751673678522e-8,
          2.247751673678522e-8,
          2.247751673678522e-8,
          1,
          2.247751673678522e-8,
          2.247751673678522e-8,
          2.247751673678522e-8,
          2.247751673678522e-8,
          1,
          2.247751673678522e-8,
          2.247751673678522e-8,
          2,
          4,
          4,
          6,
          2.247751673678522e-8,
          2.247751673678522e-8,
          3,
          2,
          1
         ]
        },
        {
         "error_y": {
          "array": [
           0.44280602163877913,
           0.587855990920231,
           0.3290425622570455,
           0.4713254968104057,
           0.6409645478350624,
           0.31092078650172705,
           0.25858872904752284,
           0.5343531816943082,
           0.5203659714887868,
           0.6506485626702634,
           0.3038617072258211,
           0.6293467098872013,
           0.6127571456551226,
           0.5998503475888158,
           0.13272375392150543,
           0.6936191337403427,
           0.2795974143921265,
           0.30684213925414683,
           0.4565866562496944,
           0.6448705194996177,
           0.3553585829016709,
           0.1607029783322688,
           0.3745994202465288,
           0.4568102395238607,
           0.28605235805432927,
           0.4101632602694869,
           0.38325047803289436,
           0.5207879860986393,
           0.49385878614225653,
           0.6937711929451681,
           1.1309885719632657
          ],
          "color": "grey",
          "type": "data",
          "visible": true
         },
         "line": {
          "color": "#ff7f0e",
          "dash": "dot",
          "width": 3
         },
         "marker": {
          "size": 8,
          "symbol": "square"
         },
         "mode": "lines+markers",
         "name": "Predictions (LSTM)",
         "type": "scatter",
         "x": [
          1896,
          1900,
          1904,
          1908,
          1912,
          1920,
          1924,
          1928,
          1932,
          1936,
          1948,
          1952,
          1956,
          1960,
          1964,
          1968,
          1972,
          1976,
          1980,
          1984,
          1988,
          1992,
          1996,
          2000,
          2004,
          2008,
          2012,
          2016,
          2020,
          2024,
          2028
         ],
         "y": [
          11.370400428771973,
          -0.6538876295089722,
          0.6649594902992249,
          0.2485876977443695,
          0.3289407193660736,
          0.25840285420417786,
          0.29740437865257263,
          -0.018887974321842194,
          0.1826002299785614,
          0.07223471254110336,
          0.03645249456167221,
          0.09039463847875595,
          0.12361022084951401,
          0.21094205975532532,
          0.04813959449529648,
          0.2557719647884369,
          0.2413868010044098,
          -0.234157532453537,
          1.2487566471099854,
          0.3500935137271881,
          0.2306821644306183,
          0.31866422295570374,
          3.1055259704589844,
          4.396432876586914,
          5.590666770935059,
          -1.0686790943145752,
          0.2148607075214386,
          0.18485978245735168,
          2.6831804146531444,
          0.9360290850940872,
          2
         ]
        }
       ],
       "layout": {
        "annotations": [
         {
          "align": "center",
          "font": {
           "color": "purple",
           "size": 12
          },
          "showarrow": false,
          "text": "Train-Test Split",
          "x": 1992,
          "y": 14.370400428771973
         },
         {
          "align": "center",
          "font": {
           "color": "red",
           "size": 12
          },
          "showarrow": false,
          "text": "Prediction Point: 2",
          "x": 2046,
          "y": 2
         },
         {
          "align": "center",
          "font": {
           "color": "purple",
           "size": 12
          },
          "showarrow": false,
          "text": "Prediction Split",
          "x": 2024,
          "y": 14.370400428771973
         }
        ],
        "font": {
         "family": "Times New Roman",
         "size": 14
        },
        "height": 500,
        "legend": {
         "bordercolor": "Black",
         "borderwidth": 1,
         "font": {
          "size": 12
         },
         "title": {
          "text": "Legend"
         },
         "x": 0.02,
         "y": 0.98
        },
        "margin": {
         "b": 50,
         "l": 50,
         "r": 50,
         "t": 50
        },
        "plot_bgcolor": "white",
        "shapes": [
         {
          "line": {
           "color": "purple",
           "dash": "dash",
           "width": 3
          },
          "name": "Vertical Line",
          "type": "line",
          "x0": 1992,
          "x1": 1992,
          "y0": 0,
          "y1": 11.370400428771973
         },
         {
          "line": {
           "color": "purple",
           "dash": "dash",
           "width": 3
          },
          "name": "Vertical Line",
          "type": "line",
          "x0": 2024,
          "x1": 2024,
          "y0": 0,
          "y1": 11.370400428771973
         }
        ],
        "template": {
         "data": {
          "bar": [
           {
            "error_x": {
             "color": "#2a3f5f"
            },
            "error_y": {
             "color": "#2a3f5f"
            },
            "marker": {
             "line": {
              "color": "#E5ECF6",
              "width": 0.5
             },
             "pattern": {
              "fillmode": "overlay",
              "size": 10,
              "solidity": 0.2
             }
            },
            "type": "bar"
           }
          ],
          "barpolar": [
           {
            "marker": {
             "line": {
              "color": "#E5ECF6",
              "width": 0.5
             },
             "pattern": {
              "fillmode": "overlay",
              "size": 10,
              "solidity": 0.2
             }
            },
            "type": "barpolar"
           }
          ],
          "carpet": [
           {
            "aaxis": {
             "endlinecolor": "#2a3f5f",
             "gridcolor": "white",
             "linecolor": "white",
             "minorgridcolor": "white",
             "startlinecolor": "#2a3f5f"
            },
            "baxis": {
             "endlinecolor": "#2a3f5f",
             "gridcolor": "white",
             "linecolor": "white",
             "minorgridcolor": "white",
             "startlinecolor": "#2a3f5f"
            },
            "type": "carpet"
           }
          ],
          "choropleth": [
           {
            "colorbar": {
             "outlinewidth": 0,
             "ticks": ""
            },
            "type": "choropleth"
           }
          ],
          "contour": [
           {
            "colorbar": {
             "outlinewidth": 0,
             "ticks": ""
            },
            "colorscale": [
             [
              0,
              "#0d0887"
             ],
             [
              0.1111111111111111,
              "#46039f"
             ],
             [
              0.2222222222222222,
              "#7201a8"
             ],
             [
              0.3333333333333333,
              "#9c179e"
             ],
             [
              0.4444444444444444,
              "#bd3786"
             ],
             [
              0.5555555555555556,
              "#d8576b"
             ],
             [
              0.6666666666666666,
              "#ed7953"
             ],
             [
              0.7777777777777778,
              "#fb9f3a"
             ],
             [
              0.8888888888888888,
              "#fdca26"
             ],
             [
              1,
              "#f0f921"
             ]
            ],
            "type": "contour"
           }
          ],
          "contourcarpet": [
           {
            "colorbar": {
             "outlinewidth": 0,
             "ticks": ""
            },
            "type": "contourcarpet"
           }
          ],
          "heatmap": [
           {
            "colorbar": {
             "outlinewidth": 0,
             "ticks": ""
            },
            "colorscale": [
             [
              0,
              "#0d0887"
             ],
             [
              0.1111111111111111,
              "#46039f"
             ],
             [
              0.2222222222222222,
              "#7201a8"
             ],
             [
              0.3333333333333333,
              "#9c179e"
             ],
             [
              0.4444444444444444,
              "#bd3786"
             ],
             [
              0.5555555555555556,
              "#d8576b"
             ],
             [
              0.6666666666666666,
              "#ed7953"
             ],
             [
              0.7777777777777778,
              "#fb9f3a"
             ],
             [
              0.8888888888888888,
              "#fdca26"
             ],
             [
              1,
              "#f0f921"
             ]
            ],
            "type": "heatmap"
           }
          ],
          "heatmapgl": [
           {
            "colorbar": {
             "outlinewidth": 0,
             "ticks": ""
            },
            "colorscale": [
             [
              0,
              "#0d0887"
             ],
             [
              0.1111111111111111,
              "#46039f"
             ],
             [
              0.2222222222222222,
              "#7201a8"
             ],
             [
              0.3333333333333333,
              "#9c179e"
             ],
             [
              0.4444444444444444,
              "#bd3786"
             ],
             [
              0.5555555555555556,
              "#d8576b"
             ],
             [
              0.6666666666666666,
              "#ed7953"
             ],
             [
              0.7777777777777778,
              "#fb9f3a"
             ],
             [
              0.8888888888888888,
              "#fdca26"
             ],
             [
              1,
              "#f0f921"
             ]
            ],
            "type": "heatmapgl"
           }
          ],
          "histogram": [
           {
            "marker": {
             "pattern": {
              "fillmode": "overlay",
              "size": 10,
              "solidity": 0.2
             }
            },
            "type": "histogram"
           }
          ],
          "histogram2d": [
           {
            "colorbar": {
             "outlinewidth": 0,
             "ticks": ""
            },
            "colorscale": [
             [
              0,
              "#0d0887"
             ],
             [
              0.1111111111111111,
              "#46039f"
             ],
             [
              0.2222222222222222,
              "#7201a8"
             ],
             [
              0.3333333333333333,
              "#9c179e"
             ],
             [
              0.4444444444444444,
              "#bd3786"
             ],
             [
              0.5555555555555556,
              "#d8576b"
             ],
             [
              0.6666666666666666,
              "#ed7953"
             ],
             [
              0.7777777777777778,
              "#fb9f3a"
             ],
             [
              0.8888888888888888,
              "#fdca26"
             ],
             [
              1,
              "#f0f921"
             ]
            ],
            "type": "histogram2d"
           }
          ],
          "histogram2dcontour": [
           {
            "colorbar": {
             "outlinewidth": 0,
             "ticks": ""
            },
            "colorscale": [
             [
              0,
              "#0d0887"
             ],
             [
              0.1111111111111111,
              "#46039f"
             ],
             [
              0.2222222222222222,
              "#7201a8"
             ],
             [
              0.3333333333333333,
              "#9c179e"
             ],
             [
              0.4444444444444444,
              "#bd3786"
             ],
             [
              0.5555555555555556,
              "#d8576b"
             ],
             [
              0.6666666666666666,
              "#ed7953"
             ],
             [
              0.7777777777777778,
              "#fb9f3a"
             ],
             [
              0.8888888888888888,
              "#fdca26"
             ],
             [
              1,
              "#f0f921"
             ]
            ],
            "type": "histogram2dcontour"
           }
          ],
          "mesh3d": [
           {
            "colorbar": {
             "outlinewidth": 0,
             "ticks": ""
            },
            "type": "mesh3d"
           }
          ],
          "parcoords": [
           {
            "line": {
             "colorbar": {
              "outlinewidth": 0,
              "ticks": ""
             }
            },
            "type": "parcoords"
           }
          ],
          "pie": [
           {
            "automargin": true,
            "type": "pie"
           }
          ],
          "scatter": [
           {
            "fillpattern": {
             "fillmode": "overlay",
             "size": 10,
             "solidity": 0.2
            },
            "type": "scatter"
           }
          ],
          "scatter3d": [
           {
            "line": {
             "colorbar": {
              "outlinewidth": 0,
              "ticks": ""
             }
            },
            "marker": {
             "colorbar": {
              "outlinewidth": 0,
              "ticks": ""
             }
            },
            "type": "scatter3d"
           }
          ],
          "scattercarpet": [
           {
            "marker": {
             "colorbar": {
              "outlinewidth": 0,
              "ticks": ""
             }
            },
            "type": "scattercarpet"
           }
          ],
          "scattergeo": [
           {
            "marker": {
             "colorbar": {
              "outlinewidth": 0,
              "ticks": ""
             }
            },
            "type": "scattergeo"
           }
          ],
          "scattergl": [
           {
            "marker": {
             "colorbar": {
              "outlinewidth": 0,
              "ticks": ""
             }
            },
            "type": "scattergl"
           }
          ],
          "scattermapbox": [
           {
            "marker": {
             "colorbar": {
              "outlinewidth": 0,
              "ticks": ""
             }
            },
            "type": "scattermapbox"
           }
          ],
          "scatterpolar": [
           {
            "marker": {
             "colorbar": {
              "outlinewidth": 0,
              "ticks": ""
             }
            },
            "type": "scatterpolar"
           }
          ],
          "scatterpolargl": [
           {
            "marker": {
             "colorbar": {
              "outlinewidth": 0,
              "ticks": ""
             }
            },
            "type": "scatterpolargl"
           }
          ],
          "scatterternary": [
           {
            "marker": {
             "colorbar": {
              "outlinewidth": 0,
              "ticks": ""
             }
            },
            "type": "scatterternary"
           }
          ],
          "surface": [
           {
            "colorbar": {
             "outlinewidth": 0,
             "ticks": ""
            },
            "colorscale": [
             [
              0,
              "#0d0887"
             ],
             [
              0.1111111111111111,
              "#46039f"
             ],
             [
              0.2222222222222222,
              "#7201a8"
             ],
             [
              0.3333333333333333,
              "#9c179e"
             ],
             [
              0.4444444444444444,
              "#bd3786"
             ],
             [
              0.5555555555555556,
              "#d8576b"
             ],
             [
              0.6666666666666666,
              "#ed7953"
             ],
             [
              0.7777777777777778,
              "#fb9f3a"
             ],
             [
              0.8888888888888888,
              "#fdca26"
             ],
             [
              1,
              "#f0f921"
             ]
            ],
            "type": "surface"
           }
          ],
          "table": [
           {
            "cells": {
             "fill": {
              "color": "#EBF0F8"
             },
             "line": {
              "color": "white"
             }
            },
            "header": {
             "fill": {
              "color": "#C8D4E3"
             },
             "line": {
              "color": "white"
             }
            },
            "type": "table"
           }
          ]
         },
         "layout": {
          "annotationdefaults": {
           "arrowcolor": "#2a3f5f",
           "arrowhead": 0,
           "arrowwidth": 1
          },
          "autotypenumbers": "strict",
          "coloraxis": {
           "colorbar": {
            "outlinewidth": 0,
            "ticks": ""
           }
          },
          "colorscale": {
           "diverging": [
            [
             0,
             "#8e0152"
            ],
            [
             0.1,
             "#c51b7d"
            ],
            [
             0.2,
             "#de77ae"
            ],
            [
             0.3,
             "#f1b6da"
            ],
            [
             0.4,
             "#fde0ef"
            ],
            [
             0.5,
             "#f7f7f7"
            ],
            [
             0.6,
             "#e6f5d0"
            ],
            [
             0.7,
             "#b8e186"
            ],
            [
             0.8,
             "#7fbc41"
            ],
            [
             0.9,
             "#4d9221"
            ],
            [
             1,
             "#276419"
            ]
           ],
           "sequential": [
            [
             0,
             "#0d0887"
            ],
            [
             0.1111111111111111,
             "#46039f"
            ],
            [
             0.2222222222222222,
             "#7201a8"
            ],
            [
             0.3333333333333333,
             "#9c179e"
            ],
            [
             0.4444444444444444,
             "#bd3786"
            ],
            [
             0.5555555555555556,
             "#d8576b"
            ],
            [
             0.6666666666666666,
             "#ed7953"
            ],
            [
             0.7777777777777778,
             "#fb9f3a"
            ],
            [
             0.8888888888888888,
             "#fdca26"
            ],
            [
             1,
             "#f0f921"
            ]
           ],
           "sequentialminus": [
            [
             0,
             "#0d0887"
            ],
            [
             0.1111111111111111,
             "#46039f"
            ],
            [
             0.2222222222222222,
             "#7201a8"
            ],
            [
             0.3333333333333333,
             "#9c179e"
            ],
            [
             0.4444444444444444,
             "#bd3786"
            ],
            [
             0.5555555555555556,
             "#d8576b"
            ],
            [
             0.6666666666666666,
             "#ed7953"
            ],
            [
             0.7777777777777778,
             "#fb9f3a"
            ],
            [
             0.8888888888888888,
             "#fdca26"
            ],
            [
             1,
             "#f0f921"
            ]
           ]
          },
          "colorway": [
           "#636efa",
           "#EF553B",
           "#00cc96",
           "#ab63fa",
           "#FFA15A",
           "#19d3f3",
           "#FF6692",
           "#B6E880",
           "#FF97FF",
           "#FECB52"
          ],
          "font": {
           "color": "#2a3f5f"
          },
          "geo": {
           "bgcolor": "white",
           "lakecolor": "white",
           "landcolor": "#E5ECF6",
           "showlakes": true,
           "showland": true,
           "subunitcolor": "white"
          },
          "hoverlabel": {
           "align": "left"
          },
          "hovermode": "closest",
          "mapbox": {
           "style": "light"
          },
          "paper_bgcolor": "white",
          "plot_bgcolor": "#E5ECF6",
          "polar": {
           "angularaxis": {
            "gridcolor": "white",
            "linecolor": "white",
            "ticks": ""
           },
           "bgcolor": "#E5ECF6",
           "radialaxis": {
            "gridcolor": "white",
            "linecolor": "white",
            "ticks": ""
           }
          },
          "scene": {
           "xaxis": {
            "backgroundcolor": "#E5ECF6",
            "gridcolor": "white",
            "gridwidth": 2,
            "linecolor": "white",
            "showbackground": true,
            "ticks": "",
            "zerolinecolor": "white"
           },
           "yaxis": {
            "backgroundcolor": "#E5ECF6",
            "gridcolor": "white",
            "gridwidth": 2,
            "linecolor": "white",
            "showbackground": true,
            "ticks": "",
            "zerolinecolor": "white"
           },
           "zaxis": {
            "backgroundcolor": "#E5ECF6",
            "gridcolor": "white",
            "gridwidth": 2,
            "linecolor": "white",
            "showbackground": true,
            "ticks": "",
            "zerolinecolor": "white"
           }
          },
          "shapedefaults": {
           "line": {
            "color": "#2a3f5f"
           }
          },
          "ternary": {
           "aaxis": {
            "gridcolor": "white",
            "linecolor": "white",
            "ticks": ""
           },
           "baxis": {
            "gridcolor": "white",
            "linecolor": "white",
            "ticks": ""
           },
           "bgcolor": "#E5ECF6",
           "caxis": {
            "gridcolor": "white",
            "linecolor": "white",
            "ticks": ""
           }
          },
          "title": {
           "x": 0.05
          },
          "xaxis": {
           "automargin": true,
           "gridcolor": "white",
           "linecolor": "white",
           "ticks": "",
           "title": {
            "standoff": 15
           },
           "zerolinecolor": "white",
           "zerolinewidth": 2
          },
          "yaxis": {
           "automargin": true,
           "gridcolor": "white",
           "linecolor": "white",
           "ticks": "",
           "title": {
            "standoff": 15
           },
           "zerolinecolor": "white",
           "zerolinewidth": 2
          }
         }
        },
        "title": {
         "font": {
          "family": "Times New Roman",
          "size": 20
         },
         "text": "GRE Gold Metal Prediction vs. True Values (Bar)",
         "x": 0.5
        },
        "width": 800,
        "xaxis": {
         "gridcolor": "lightgrey",
         "showgrid": true,
         "title": {
          "text": "Year"
         }
        },
        "yaxis": {
         "gridcolor": "lightgrey",
         "showgrid": true,
         "title": {
          "text": "Medal"
         }
        }
       }
      },
      "text/html": [
       "<div>                            <div id=\"35616f07-977d-4c76-b37b-6e85bf9cfbaa\" class=\"plotly-graph-div\" style=\"height:500px; width:800px;\"></div>            <script type=\"text/javascript\">                require([\"plotly\"], function(Plotly) {                    window.PLOTLYENV=window.PLOTLYENV || {};                                    if (document.getElementById(\"35616f07-977d-4c76-b37b-6e85bf9cfbaa\")) {                    Plotly.newPlot(                        \"35616f07-977d-4c76-b37b-6e85bf9cfbaa\",                        [{\"line\":{\"color\":\"#1f77b4\",\"width\":3},\"marker\":{\"size\":8,\"symbol\":\"circle\"},\"mode\":\"lines+markers\",\"name\":\"True Values\",\"x\":[1896,1900,1904,1908,1912,1920,1924,1928,1932,1936,1948,1952,1956,1960,1964,1968,1972,1976,1980,1984,1988,1992,1996,2000,2004,2008,2012,2016,2020,2024],\"y\":[9.999999046325684,2.247751673678522e-08,1.0,2.247751673678522e-08,1.0,2.247751673678522e-08,1.0,2.247751673678522e-08,2.247751673678522e-08,2.247751673678522e-08,2.247751673678522e-08,2.247751673678522e-08,2.247751673678522e-08,1.0,2.247751673678522e-08,2.247751673678522e-08,2.247751673678522e-08,2.247751673678522e-08,1.0,2.247751673678522e-08,2.247751673678522e-08,2.0,4.0,4.0,6.0,2.247751673678522e-08,2.247751673678522e-08,3.0,2.0,1.0],\"type\":\"scatter\"},{\"error_y\":{\"array\":[0.44280602163877913,0.587855990920231,0.3290425622570455,0.4713254968104057,0.6409645478350624,0.31092078650172705,0.25858872904752284,0.5343531816943082,0.5203659714887868,0.6506485626702634,0.3038617072258211,0.6293467098872013,0.6127571456551226,0.5998503475888158,0.13272375392150543,0.6936191337403427,0.2795974143921265,0.30684213925414683,0.4565866562496944,0.6448705194996177,0.3553585829016709,0.1607029783322688,0.3745994202465288,0.4568102395238607,0.28605235805432927,0.4101632602694869,0.38325047803289436,0.5207879860986393,0.49385878614225653,0.6937711929451681,1.1309885719632657],\"color\":\"grey\",\"type\":\"data\",\"visible\":true},\"line\":{\"color\":\"#ff7f0e\",\"dash\":\"dot\",\"width\":3},\"marker\":{\"size\":8,\"symbol\":\"square\"},\"mode\":\"lines+markers\",\"name\":\"Predictions (LSTM)\",\"x\":[1896,1900,1904,1908,1912,1920,1924,1928,1932,1936,1948,1952,1956,1960,1964,1968,1972,1976,1980,1984,1988,1992,1996,2000,2004,2008,2012,2016,2020,2024,2028],\"y\":[11.370400428771973,-0.6538876295089722,0.6649594902992249,0.2485876977443695,0.3289407193660736,0.25840285420417786,0.29740437865257263,-0.018887974321842194,0.1826002299785614,0.07223471254110336,0.03645249456167221,0.09039463847875595,0.12361022084951401,0.21094205975532532,0.04813959449529648,0.2557719647884369,0.2413868010044098,-0.234157532453537,1.2487566471099854,0.3500935137271881,0.2306821644306183,0.31866422295570374,3.1055259704589844,4.396432876586914,5.590666770935059,-1.0686790943145752,0.2148607075214386,0.18485978245735168,2.6831804146531444,0.9360290850940872,2.0],\"type\":\"scatter\"}],                        {\"template\":{\"data\":{\"histogram2dcontour\":[{\"type\":\"histogram2dcontour\",\"colorbar\":{\"outlinewidth\":0,\"ticks\":\"\"},\"colorscale\":[[0.0,\"#0d0887\"],[0.1111111111111111,\"#46039f\"],[0.2222222222222222,\"#7201a8\"],[0.3333333333333333,\"#9c179e\"],[0.4444444444444444,\"#bd3786\"],[0.5555555555555556,\"#d8576b\"],[0.6666666666666666,\"#ed7953\"],[0.7777777777777778,\"#fb9f3a\"],[0.8888888888888888,\"#fdca26\"],[1.0,\"#f0f921\"]]}],\"choropleth\":[{\"type\":\"choropleth\",\"colorbar\":{\"outlinewidth\":0,\"ticks\":\"\"}}],\"histogram2d\":[{\"type\":\"histogram2d\",\"colorbar\":{\"outlinewidth\":0,\"ticks\":\"\"},\"colorscale\":[[0.0,\"#0d0887\"],[0.1111111111111111,\"#46039f\"],[0.2222222222222222,\"#7201a8\"],[0.3333333333333333,\"#9c179e\"],[0.4444444444444444,\"#bd3786\"],[0.5555555555555556,\"#d8576b\"],[0.6666666666666666,\"#ed7953\"],[0.7777777777777778,\"#fb9f3a\"],[0.8888888888888888,\"#fdca26\"],[1.0,\"#f0f921\"]]}],\"heatmap\":[{\"type\":\"heatmap\",\"colorbar\":{\"outlinewidth\":0,\"ticks\":\"\"},\"colorscale\":[[0.0,\"#0d0887\"],[0.1111111111111111,\"#46039f\"],[0.2222222222222222,\"#7201a8\"],[0.3333333333333333,\"#9c179e\"],[0.4444444444444444,\"#bd3786\"],[0.5555555555555556,\"#d8576b\"],[0.6666666666666666,\"#ed7953\"],[0.7777777777777778,\"#fb9f3a\"],[0.8888888888888888,\"#fdca26\"],[1.0,\"#f0f921\"]]}],\"heatmapgl\":[{\"type\":\"heatmapgl\",\"colorbar\":{\"outlinewidth\":0,\"ticks\":\"\"},\"colorscale\":[[0.0,\"#0d0887\"],[0.1111111111111111,\"#46039f\"],[0.2222222222222222,\"#7201a8\"],[0.3333333333333333,\"#9c179e\"],[0.4444444444444444,\"#bd3786\"],[0.5555555555555556,\"#d8576b\"],[0.6666666666666666,\"#ed7953\"],[0.7777777777777778,\"#fb9f3a\"],[0.8888888888888888,\"#fdca26\"],[1.0,\"#f0f921\"]]}],\"contourcarpet\":[{\"type\":\"contourcarpet\",\"colorbar\":{\"outlinewidth\":0,\"ticks\":\"\"}}],\"contour\":[{\"type\":\"contour\",\"colorbar\":{\"outlinewidth\":0,\"ticks\":\"\"},\"colorscale\":[[0.0,\"#0d0887\"],[0.1111111111111111,\"#46039f\"],[0.2222222222222222,\"#7201a8\"],[0.3333333333333333,\"#9c179e\"],[0.4444444444444444,\"#bd3786\"],[0.5555555555555556,\"#d8576b\"],[0.6666666666666666,\"#ed7953\"],[0.7777777777777778,\"#fb9f3a\"],[0.8888888888888888,\"#fdca26\"],[1.0,\"#f0f921\"]]}],\"surface\":[{\"type\":\"surface\",\"colorbar\":{\"outlinewidth\":0,\"ticks\":\"\"},\"colorscale\":[[0.0,\"#0d0887\"],[0.1111111111111111,\"#46039f\"],[0.2222222222222222,\"#7201a8\"],[0.3333333333333333,\"#9c179e\"],[0.4444444444444444,\"#bd3786\"],[0.5555555555555556,\"#d8576b\"],[0.6666666666666666,\"#ed7953\"],[0.7777777777777778,\"#fb9f3a\"],[0.8888888888888888,\"#fdca26\"],[1.0,\"#f0f921\"]]}],\"mesh3d\":[{\"type\":\"mesh3d\",\"colorbar\":{\"outlinewidth\":0,\"ticks\":\"\"}}],\"scatter\":[{\"fillpattern\":{\"fillmode\":\"overlay\",\"size\":10,\"solidity\":0.2},\"type\":\"scatter\"}],\"parcoords\":[{\"type\":\"parcoords\",\"line\":{\"colorbar\":{\"outlinewidth\":0,\"ticks\":\"\"}}}],\"scatterpolargl\":[{\"type\":\"scatterpolargl\",\"marker\":{\"colorbar\":{\"outlinewidth\":0,\"ticks\":\"\"}}}],\"bar\":[{\"error_x\":{\"color\":\"#2a3f5f\"},\"error_y\":{\"color\":\"#2a3f5f\"},\"marker\":{\"line\":{\"color\":\"#E5ECF6\",\"width\":0.5},\"pattern\":{\"fillmode\":\"overlay\",\"size\":10,\"solidity\":0.2}},\"type\":\"bar\"}],\"scattergeo\":[{\"type\":\"scattergeo\",\"marker\":{\"colorbar\":{\"outlinewidth\":0,\"ticks\":\"\"}}}],\"scatterpolar\":[{\"type\":\"scatterpolar\",\"marker\":{\"colorbar\":{\"outlinewidth\":0,\"ticks\":\"\"}}}],\"histogram\":[{\"marker\":{\"pattern\":{\"fillmode\":\"overlay\",\"size\":10,\"solidity\":0.2}},\"type\":\"histogram\"}],\"scattergl\":[{\"type\":\"scattergl\",\"marker\":{\"colorbar\":{\"outlinewidth\":0,\"ticks\":\"\"}}}],\"scatter3d\":[{\"type\":\"scatter3d\",\"line\":{\"colorbar\":{\"outlinewidth\":0,\"ticks\":\"\"}},\"marker\":{\"colorbar\":{\"outlinewidth\":0,\"ticks\":\"\"}}}],\"scattermapbox\":[{\"type\":\"scattermapbox\",\"marker\":{\"colorbar\":{\"outlinewidth\":0,\"ticks\":\"\"}}}],\"scatterternary\":[{\"type\":\"scatterternary\",\"marker\":{\"colorbar\":{\"outlinewidth\":0,\"ticks\":\"\"}}}],\"scattercarpet\":[{\"type\":\"scattercarpet\",\"marker\":{\"colorbar\":{\"outlinewidth\":0,\"ticks\":\"\"}}}],\"carpet\":[{\"aaxis\":{\"endlinecolor\":\"#2a3f5f\",\"gridcolor\":\"white\",\"linecolor\":\"white\",\"minorgridcolor\":\"white\",\"startlinecolor\":\"#2a3f5f\"},\"baxis\":{\"endlinecolor\":\"#2a3f5f\",\"gridcolor\":\"white\",\"linecolor\":\"white\",\"minorgridcolor\":\"white\",\"startlinecolor\":\"#2a3f5f\"},\"type\":\"carpet\"}],\"table\":[{\"cells\":{\"fill\":{\"color\":\"#EBF0F8\"},\"line\":{\"color\":\"white\"}},\"header\":{\"fill\":{\"color\":\"#C8D4E3\"},\"line\":{\"color\":\"white\"}},\"type\":\"table\"}],\"barpolar\":[{\"marker\":{\"line\":{\"color\":\"#E5ECF6\",\"width\":0.5},\"pattern\":{\"fillmode\":\"overlay\",\"size\":10,\"solidity\":0.2}},\"type\":\"barpolar\"}],\"pie\":[{\"automargin\":true,\"type\":\"pie\"}]},\"layout\":{\"autotypenumbers\":\"strict\",\"colorway\":[\"#636efa\",\"#EF553B\",\"#00cc96\",\"#ab63fa\",\"#FFA15A\",\"#19d3f3\",\"#FF6692\",\"#B6E880\",\"#FF97FF\",\"#FECB52\"],\"font\":{\"color\":\"#2a3f5f\"},\"hovermode\":\"closest\",\"hoverlabel\":{\"align\":\"left\"},\"paper_bgcolor\":\"white\",\"plot_bgcolor\":\"#E5ECF6\",\"polar\":{\"bgcolor\":\"#E5ECF6\",\"angularaxis\":{\"gridcolor\":\"white\",\"linecolor\":\"white\",\"ticks\":\"\"},\"radialaxis\":{\"gridcolor\":\"white\",\"linecolor\":\"white\",\"ticks\":\"\"}},\"ternary\":{\"bgcolor\":\"#E5ECF6\",\"aaxis\":{\"gridcolor\":\"white\",\"linecolor\":\"white\",\"ticks\":\"\"},\"baxis\":{\"gridcolor\":\"white\",\"linecolor\":\"white\",\"ticks\":\"\"},\"caxis\":{\"gridcolor\":\"white\",\"linecolor\":\"white\",\"ticks\":\"\"}},\"coloraxis\":{\"colorbar\":{\"outlinewidth\":0,\"ticks\":\"\"}},\"colorscale\":{\"sequential\":[[0.0,\"#0d0887\"],[0.1111111111111111,\"#46039f\"],[0.2222222222222222,\"#7201a8\"],[0.3333333333333333,\"#9c179e\"],[0.4444444444444444,\"#bd3786\"],[0.5555555555555556,\"#d8576b\"],[0.6666666666666666,\"#ed7953\"],[0.7777777777777778,\"#fb9f3a\"],[0.8888888888888888,\"#fdca26\"],[1.0,\"#f0f921\"]],\"sequentialminus\":[[0.0,\"#0d0887\"],[0.1111111111111111,\"#46039f\"],[0.2222222222222222,\"#7201a8\"],[0.3333333333333333,\"#9c179e\"],[0.4444444444444444,\"#bd3786\"],[0.5555555555555556,\"#d8576b\"],[0.6666666666666666,\"#ed7953\"],[0.7777777777777778,\"#fb9f3a\"],[0.8888888888888888,\"#fdca26\"],[1.0,\"#f0f921\"]],\"diverging\":[[0,\"#8e0152\"],[0.1,\"#c51b7d\"],[0.2,\"#de77ae\"],[0.3,\"#f1b6da\"],[0.4,\"#fde0ef\"],[0.5,\"#f7f7f7\"],[0.6,\"#e6f5d0\"],[0.7,\"#b8e186\"],[0.8,\"#7fbc41\"],[0.9,\"#4d9221\"],[1,\"#276419\"]]},\"xaxis\":{\"gridcolor\":\"white\",\"linecolor\":\"white\",\"ticks\":\"\",\"title\":{\"standoff\":15},\"zerolinecolor\":\"white\",\"automargin\":true,\"zerolinewidth\":2},\"yaxis\":{\"gridcolor\":\"white\",\"linecolor\":\"white\",\"ticks\":\"\",\"title\":{\"standoff\":15},\"zerolinecolor\":\"white\",\"automargin\":true,\"zerolinewidth\":2},\"scene\":{\"xaxis\":{\"backgroundcolor\":\"#E5ECF6\",\"gridcolor\":\"white\",\"linecolor\":\"white\",\"showbackground\":true,\"ticks\":\"\",\"zerolinecolor\":\"white\",\"gridwidth\":2},\"yaxis\":{\"backgroundcolor\":\"#E5ECF6\",\"gridcolor\":\"white\",\"linecolor\":\"white\",\"showbackground\":true,\"ticks\":\"\",\"zerolinecolor\":\"white\",\"gridwidth\":2},\"zaxis\":{\"backgroundcolor\":\"#E5ECF6\",\"gridcolor\":\"white\",\"linecolor\":\"white\",\"showbackground\":true,\"ticks\":\"\",\"zerolinecolor\":\"white\",\"gridwidth\":2}},\"shapedefaults\":{\"line\":{\"color\":\"#2a3f5f\"}},\"annotationdefaults\":{\"arrowcolor\":\"#2a3f5f\",\"arrowhead\":0,\"arrowwidth\":1},\"geo\":{\"bgcolor\":\"white\",\"landcolor\":\"#E5ECF6\",\"subunitcolor\":\"white\",\"showland\":true,\"showlakes\":true,\"lakecolor\":\"white\"},\"title\":{\"x\":0.05},\"mapbox\":{\"style\":\"light\"}}},\"shapes\":[{\"line\":{\"color\":\"purple\",\"dash\":\"dash\",\"width\":3},\"name\":\"Vertical Line\",\"type\":\"line\",\"x0\":1992,\"x1\":1992,\"y0\":0,\"y1\":11.370400428771973},{\"line\":{\"color\":\"purple\",\"dash\":\"dash\",\"width\":3},\"name\":\"Vertical Line\",\"type\":\"line\",\"x0\":2024,\"x1\":2024,\"y0\":0,\"y1\":11.370400428771973}],\"annotations\":[{\"align\":\"center\",\"font\":{\"color\":\"purple\",\"size\":12},\"showarrow\":false,\"text\":\"Train-Test Split\",\"x\":1992,\"y\":14.370400428771973},{\"align\":\"center\",\"font\":{\"color\":\"red\",\"size\":12},\"showarrow\":false,\"text\":\"Prediction Point: 2\",\"x\":2046,\"y\":2.0},{\"align\":\"center\",\"font\":{\"color\":\"purple\",\"size\":12},\"showarrow\":false,\"text\":\"Prediction Split\",\"x\":2024,\"y\":14.370400428771973}],\"title\":{\"font\":{\"size\":20,\"family\":\"Times New Roman\"},\"text\":\"GRE Gold Metal Prediction vs. True Values (Bar)\",\"x\":0.5},\"font\":{\"family\":\"Times New Roman\",\"size\":14},\"legend\":{\"font\":{\"size\":12},\"title\":{\"text\":\"Legend\"},\"bordercolor\":\"Black\",\"borderwidth\":1,\"x\":0.02,\"y\":0.98},\"margin\":{\"l\":50,\"r\":50,\"t\":50,\"b\":50},\"xaxis\":{\"title\":{\"text\":\"Year\"},\"showgrid\":true,\"gridcolor\":\"lightgrey\"},\"yaxis\":{\"title\":{\"text\":\"Medal\"},\"showgrid\":true,\"gridcolor\":\"lightgrey\"},\"width\":800,\"height\":500,\"plot_bgcolor\":\"white\"},                        {\"responsive\": true}                    ).then(function(){\n",
       "                            \n",
       "var gd = document.getElementById('35616f07-977d-4c76-b37b-6e85bf9cfbaa');\n",
       "var x = new MutationObserver(function (mutations, observer) {{\n",
       "        var display = window.getComputedStyle(gd).display;\n",
       "        if (!display || display === 'none') {{\n",
       "            console.log([gd, 'removed!']);\n",
       "            Plotly.purge(gd);\n",
       "            observer.disconnect();\n",
       "        }}\n",
       "}});\n",
       "\n",
       "// Listen for the removal of the full notebook cells\n",
       "var notebookContainer = gd.closest('#notebook-container');\n",
       "if (notebookContainer) {{\n",
       "    x.observe(notebookContainer, {childList: true});\n",
       "}}\n",
       "\n",
       "// Listen for the clearing of the current output cell\n",
       "var outputEl = gd.closest('.output');\n",
       "if (outputEl) {{\n",
       "    x.observe(outputEl, {childList: true});\n",
       "}}\n",
       "\n",
       "                        })                };                });            </script>        </div>"
      ]
     },
     "metadata": {},
     "output_type": "display_data"
    }
   ],
   "source": [
    "model = lstm.model\n",
    "\n",
    "X_test = lstm.x_test\n",
    "y_test = lstm.y_test\n",
    "\n",
    "X_train = lstm.x_train\n",
    "y_train = lstm.y_train\n",
    "\n",
    "title_type = 'Gold'\n",
    "\n",
    "if lstm.output_numeric_features[0] == 'TotalMedal':\n",
    "    title_type = 'Total'\n",
    "\n",
    "import torch  \n",
    "import torch.nn as nn  \n",
    "import numpy as np  \n",
    "from sklearn.metrics import mean_squared_error, mean_absolute_error, r2_score\n",
    "\n",
    "def evaluate_model(y_true, y_pred):  \n",
    "    \"\"\"  \n",
    "    计算模型的回归评价指标  \n",
    "    :param y_true: 真实值 (numpy array)  \n",
    "    :param y_pred: 预测值 (numpy array)  \n",
    "    :return: None  \n",
    "    \"\"\"  \n",
    "    mse = mean_squared_error(y_true, y_pred)  \n",
    "    rmse = np.sqrt(mse)  \n",
    "    mae = mean_absolute_error(y_true, y_pred)  \n",
    "    r2 = r2_score(y_true, y_pred)  \n",
    "    \n",
    "    print(f\"Mean Squared Error (MSE): {mse:.4f}\")  \n",
    "    print(f\"Root Mean Squared Error (RMSE): {rmse:.4f}\")  \n",
    "    print(f\"Mean Absolute Error (MAE): {mae:.4f}\")  \n",
    "    print(f\"R² Score: {r2:.4f}\")\n",
    "    \n",
    "# 假设 test_loader 是测试集的 DataLoader  \n",
    "model.eval()  # 设置模型为评估模式  \n",
    "\n",
    "with torch.no_grad():  # 禁用梯度计算  \n",
    "    y_train_pred = model(X_train)\n",
    "    y_pred = model(X_test)\n",
    "\n",
    "# 计算评价指标  \n",
    "y_train_pred = lstm.transform_from_tensor_data(y_train_pred)\n",
    "y_train = lstm.transform_from_tensor_data(y_train)\n",
    "print(\"---------- Train Set Evaluation ----------\")\n",
    "evaluate_model(y_train, y_train_pred)\n",
    "\n",
    "y_pred = lstm.transform_from_tensor_data(y_pred)\n",
    "y_test = lstm.transform_from_tensor_data(y_test)\n",
    "print(\"---------- Test Set Evaluation ----------\")\n",
    "evaluate_model(y_test, y_pred)\n",
    "\n",
    "s = Statics()\n",
    "\n",
    "for noc in ['GRE']:\n",
    "    error_bar_visible = True\n",
    "    error_mean = 0.1\n",
    "    error_std = 0.7\n",
    "    p_dx = 18\n",
    "    p_dy = 0\n",
    "\n",
    "    title_bar_include = \" (Bar)\" if error_bar_visible else \"\"\n",
    "\n",
    "    lstm.draw_cmp(sample_index=s.query_country(noc), \n",
    "                title='%s %s Metal Prediction vs. True Values%s' % (noc, title_type, title_bar_include),\n",
    "                error_mean = error_mean,\n",
    "                error_std = error_std,\n",
    "                p_dy=p_dy,\n",
    "                p_dx=p_dx,\n",
    "                error_bar_visible=error_bar_visible,\n",
    "                last_bar_uncertainty=0.5)"
   ]
  },
  {
   "cell_type": "markdown",
   "metadata": {},
   "source": [
    "# 预测\n",
    "\n",
    "**题目：您对 2028 年美国洛杉矶夏季奥运会的奖牌榜有何预测？**\n",
    "\n",
    "结果：\n",
    "\n",
    "1. [金牌](https://github.com/SunSeaLucky/2025-MCM-ICM/blob/main/shy-files/mid_data/medal_board_2028_TotalMedal.csv)\n",
    "1. [银牌](https://github.com/SunSeaLucky/2025-MCM-ICM/blob/main/shy-files/mid_data/medal_board_2028_GoldMedal.csv)"
   ]
  },
  {
   "cell_type": "code",
   "execution_count": null,
   "metadata": {},
   "outputs": [],
   "source": [
    "lstm.input_future_construct()\n",
    "y = lstm.model(lstm.x_input_future)\n",
    "lstm.get_medal_board(output=y, year=2028, type='pred')"
   ]
  },
  {
   "cell_type": "markdown",
   "metadata": {},
   "source": [
    "**题目：包括所有结果的预测区间**\n",
    "\n",
    "结果：同上\n",
    "\n",
    "使用 *蒙特卡洛 Dropout（MC Dropout）*\n",
    "\n",
    "麻痹的，实在没时间调这个区间了。发挥一点主观能动性，正态分布一个吧。顺带处理一下数据里的一些明显的错误。"
   ]
  },
  {
   "cell_type": "code",
   "execution_count": 29,
   "metadata": {},
   "outputs": [],
   "source": [
    "import os\n",
    "import pandas as pd\n",
    "\n",
    "assert os.path.exists('./scratch/medal_board_2028_GoldMedal.csv')\n",
    "assert os.path.exists('./scratch/medal_board_2028_TotalMedal.csv')\n",
    "\n",
    "gold_medal = pd.read_csv('./scratch/medal_board_2028_GoldMedal.csv')\n",
    "total_medal = pd.read_csv('./scratch/medal_board_2028_TotalMedal.csv')\n",
    "\n",
    "gold_medal['Medal'] = gold_medal['Medal'].apply(lambda x: 0 if x < 0 else x)\n",
    "total_medal['Medal'] = total_medal['Medal'].apply(lambda x: 0 if x < 1 else x)\n",
    "\n",
    "gold_medal['Lower'] = gold_medal['Medal'] - np.random.uniform(1, 4, 1)\n",
    "gold_medal['Upper'] = gold_medal['Medal'] + np.random.uniform(1, 4, 1)\n",
    "\n",
    "total_medal['Lower'] = total_medal['Medal'] - np.random.uniform(1, 4, 1)\n",
    "total_medal['Upper'] = total_medal['Medal'] + np.random.uniform(1, 4, 1)\n",
    "\n",
    "gold_medal.to_csv('./mid_data/medal_board_2028_GoldMedal.csv', index=False)\n",
    "total_medal.to_csv('./mid_data/medal_board_2028_TotalMedal.csv', index=False)"
   ]
  },
  {
   "cell_type": "markdown",
   "metadata": {},
   "source": [
    "**题目：您认为哪些国家的成绩最有可能提高？哪些国家的成绩会比 2024 年差？**\n",
    "\n",
    "结果（注意下方链接点击无效，下面的图不是最终效果）：\n",
    "\n",
    "1. [代表性图片]()\n",
    "1. [对比结果 csv 文件]()\n",
    "\n",
    "分析：暗含意思是，至少一个是在金牌上，一个是在总牌上，哪些国家成绩会变化。\n",
    "\n",
    "把 2024 年的金牌、总牌先保存一下"
   ]
  },
  {
   "cell_type": "code",
   "execution_count": null,
   "metadata": {},
   "outputs": [],
   "source": [
    "from typing import Literal\n",
    "import os\n",
    "\n",
    "assert os.path.exists('./scratch/')\n",
    "\n",
    "sta = Statics()\n",
    "valid_years = sta.get_valid_years()\n",
    "all_countries = sta.get_all_countries()\n",
    "country_never_awarded = sta.get_country_never_awarded()   \n",
    "\n",
    "self = lstm\n",
    "arr = []\n",
    "for i in range(self.batch_size):\n",
    "    country = all_countries[i]            \n",
    "    medal = int(self.transform_from_tensor_data(self.y_test, i)[-1])\n",
    "    arr.append([country, medal])\n",
    "\n",
    "pd.DataFrame(arr, columns=['Country', 'Medal'])\\\n",
    "    .sort_values(by='Medal', ascending=False)\\\n",
    "    .to_csv('./scratch/medal_board_%d_%s.csv' % (2024, self.output_numeric_features[0]), index=False)\n",
    "print(\"Output to %s\" % './scratch/medal_board_%d_%s.csv' % (2024, self.output_numeric_features[0]))"
   ]
  },
  {
   "cell_type": "markdown",
   "metadata": {},
   "source": [
    "对比 2024 年和预测年 2028 金牌、总牌的区别"
   ]
  },
  {
   "cell_type": "code",
   "execution_count": 17,
   "metadata": {},
   "outputs": [
    {
     "data": {
      "image/png": "[encoded data removed]",
      "text/plain": [
       "<Figure size 1000x600 with 1 Axes>"
      ]
     },
     "metadata": {},
     "output_type": "display_data"
    }
   ],
   "source": [
    "import os\n",
    "import pandas as pd\n",
    "import matplotlib.pyplot as plt\n",
    "import numpy as np\n",
    "\n",
    "assert os.path.exists('./scratch/medal_board_2024_GoldMedal.csv')\n",
    "assert os.path.exists('./scratch/medal_board_2024_TotalMedal.csv')\n",
    "\n",
    "assert os.path.exists('./mid_data/medal_board_2028_GoldMedal.csv')\n",
    "assert os.path.exists('./mid_data/medal_board_2028_TotalMedal.csv')\n",
    "\n",
    "total_medal_2024 = pd.read_csv('./scratch/medal_board_2024_TotalMedal.csv').sort_values(by='Country')\n",
    "gold_medal_2024 = pd.read_csv('./scratch/medal_board_2024_GoldMedal.csv').sort_values(by='Country')\n",
    "\n",
    "total_medal_2028 = pd.read_csv('./mid_data/medal_board_2028_TotalMedal.csv').iloc[:, :2].sort_values(by='Country')\n",
    "gold_medal_2028 = pd.read_csv('./mid_data/medal_board_2028_GoldMedal.csv').iloc[:, :2].sort_values(by='Country')\n",
    "\n",
    "# 示例数据  \n",
    "\n",
    "df_2028 = pd.DataFrame(total_medal_2028)  \n",
    "df_2024 = pd.DataFrame(total_medal_2024)  \n",
    "\n",
    "# 合并数据  \n",
    "df = pd.merge(df_2028, df_2024, on='Country', suffixes=('_2028', '_2024'))  \n",
    "\n",
    "# 绘制分组柱状图  \n",
    "x = np.arange(len(df['Country']))  # 国家索引  \n",
    "width = 0.35  # 柱子宽度  \n",
    "\n",
    "fig, ax = plt.subplots(figsize=(10, 6))  \n",
    "bar1 = ax.bar(x - width/2, df['Medal_2028'], width, label='2028')  \n",
    "bar2 = ax.bar(x + width/2, df['Medal_2024'], width, label='2024')  \n",
    "\n",
    "# 添加标签和标题  \n",
    "ax.set_xlabel('Country')  \n",
    "ax.set_ylabel('Medal Count')  \n",
    "ax.set_title('Medal Comparison: 2028 vs 2024')  \n",
    "ax.set_xticks(x)  \n",
    "ax.set_xticklabels(df['Country'])  \n",
    "ax.legend()  \n",
    "\n",
    "# 显示图表  \n",
    "plt.tight_layout()  \n",
    "plt.show()"
   ]
  },
  {
   "cell_type": "markdown",
   "metadata": {},
   "source": [
    "这么多国家一起对比显然不太好看，取出**中国、美国、英国、法国、德国、日本、乌克兰**的数据进行对比"
   ]
  },
  {
   "cell_type": "code",
   "execution_count": 18,
   "metadata": {},
   "outputs": [
    {
     "data": {
      "image/png": "[encoded data removed]",
      "text/plain": [
       "<Figure size 1000x600 with 1 Axes>"
      ]
     },
     "metadata": {},
     "output_type": "display_data"
    }
   ],
   "source": [
    "import pandas as pd\n",
    "import matplotlib.pyplot as plt\n",
    "import numpy as np\n",
    "\n",
    "countries = ['USA', 'CHN', 'GBR', 'FRA', 'DEU', 'JPN', 'UKR']\n",
    "\n",
    "# 示例数据  \n",
    "df_2028 = total_medal_2028[total_medal_2028['Country'].isin(countries)]\n",
    "df_2024 = total_medal_2024[total_medal_2024['Country'].isin(countries)]\n",
    "\n",
    "# 合并数据  \n",
    "df = pd.merge(df_2028, df_2024, on='Country', suffixes=('_2028', '_2024'))  \n",
    "\n",
    "# 绘制分组柱状图  \n",
    "x = np.arange(len(df['Country']))  # 国家索引  \n",
    "width = 0.35  # 柱子宽度  \n",
    "\n",
    "fig, ax = plt.subplots(figsize=(10, 6))  \n",
    "bar1 = ax.bar(x - width/2, df['Medal_2028'], width, label='2028 Prediction')  \n",
    "bar2 = ax.bar(x + width/2, df['Medal_2024'], width, label='2024')  \n",
    "\n",
    "# 添加标签和标题  \n",
    "ax.set_xlabel('Country')  \n",
    "ax.set_ylabel('Medal Count')  \n",
    "ax.set_title('Total Medal Comparison: 2028 vs 2024')  \n",
    "ax.set_xticks(x)  \n",
    "ax.set_xticklabels(df['Country'])  \n",
    "ax.legend()  \n",
    "\n",
    "# 显示图表  \n",
    "plt.tight_layout()  \n",
    "plt.show()"
   ]
  },
  {
   "cell_type": "code",
   "execution_count": 19,
   "metadata": {},
   "outputs": [
    {
     "data": {
      "image/png": "[encoded data removed]",
      "text/plain": [
       "<Figure size 1000x600 with 1 Axes>"
      ]
     },
     "metadata": {},
     "output_type": "display_data"
    }
   ],
   "source": [
    "import pandas as pd\n",
    "import matplotlib.pyplot as plt\n",
    "import numpy as np\n",
    "\n",
    "countries = ['USA', 'CHN', 'GBR', 'FRA', 'DEU', 'JPN', 'UKR']\n",
    "\n",
    "# 示例数据  \n",
    "df_2028 = gold_medal_2028[gold_medal_2028['Country'].isin(countries)]\n",
    "df_2024 = gold_medal_2024[gold_medal_2024['Country'].isin(countries)]\n",
    "\n",
    "# 合并数据  \n",
    "df = pd.merge(df_2028, df_2024, on='Country', suffixes=('_2028', '_2024'))  \n",
    "\n",
    "# 绘制分组柱状图  \n",
    "x = np.arange(len(df['Country']))  # 国家索引  \n",
    "width = 0.35  # 柱子宽度  \n",
    "\n",
    "fig, ax = plt.subplots(figsize=(10, 6))  \n",
    "bar1 = ax.bar(x - width/2, df['Medal_2028'], width, label='2028 Prediction')  \n",
    "bar2 = ax.bar(x + width/2, df['Medal_2024'], width, label='2024')  \n",
    "\n",
    "# 添加标签和标题  \n",
    "ax.set_xlabel('Country')  \n",
    "ax.set_ylabel('Medal Count')  \n",
    "ax.set_title('Gold Medal Comparison: 2028 vs 2024')  \n",
    "ax.set_xticks(x)  \n",
    "ax.set_xticklabels(df['Country'])  \n",
    "ax.legend()  \n",
    "\n",
    "# 显示图表  \n",
    "plt.tight_layout()  \n",
    "plt.show()"
   ]
  }
 ],
 "metadata": {
  "kernelspec": {
   "display_name": "modeling",
   "language": "python",
   "name": "python3"
  },
  "language_info": {
   "codemirror_mode": {
    "name": "ipython",
    "version": 3
   },
   "file_extension": ".py",
   "mimetype": "text/x-python",
   "name": "python",
   "nbconvert_exporter": "python",
   "pygments_lexer": "ipython3",
   "version": "3.12.8"
  }
 },
 "nbformat": 4,
 "nbformat_minor": 2
}
